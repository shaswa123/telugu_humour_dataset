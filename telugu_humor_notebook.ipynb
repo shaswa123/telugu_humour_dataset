{
  "nbformat": 4,
  "nbformat_minor": 0,
  "metadata": {
    "colab": {
      "name": "Preprocessing.ipynb",
      "provenance": [],
      "collapsed_sections": []
    },
    "kernelspec": {
      "name": "python3",
      "display_name": "Python 3"
    },
    "language_info": {
      "name": "python"
    },
    "accelerator": "GPU",
    "widgets": {
      "application/vnd.jupyter.widget-state+json": {
        "c4e6dcd4e4de4d0596b78ca4da1b5c0f": {
          "model_module": "@jupyter-widgets/controls",
          "model_name": "HBoxModel",
          "model_module_version": "1.5.0",
          "state": {
            "_view_name": "HBoxView",
            "_dom_classes": [],
            "_model_name": "HBoxModel",
            "_view_module": "@jupyter-widgets/controls",
            "_model_module_version": "1.5.0",
            "_view_count": null,
            "_view_module_version": "1.5.0",
            "box_style": "",
            "layout": "IPY_MODEL_948499823d734b888195808155f97b83",
            "_model_module": "@jupyter-widgets/controls",
            "children": [
              "IPY_MODEL_3251ffc6bc3e4920840abe306a21154a",
              "IPY_MODEL_847628a624804eae829e7d91db455ca1",
              "IPY_MODEL_95470508e6e342f38a6040f8e7ac764f"
            ]
          }
        },
        "948499823d734b888195808155f97b83": {
          "model_module": "@jupyter-widgets/base",
          "model_name": "LayoutModel",
          "model_module_version": "1.2.0",
          "state": {
            "_view_name": "LayoutView",
            "grid_template_rows": null,
            "right": null,
            "justify_content": null,
            "_view_module": "@jupyter-widgets/base",
            "overflow": null,
            "_model_module_version": "1.2.0",
            "_view_count": null,
            "flex_flow": null,
            "width": null,
            "min_width": null,
            "border": null,
            "align_items": null,
            "bottom": null,
            "_model_module": "@jupyter-widgets/base",
            "top": null,
            "grid_column": null,
            "overflow_y": null,
            "overflow_x": null,
            "grid_auto_flow": null,
            "grid_area": null,
            "grid_template_columns": null,
            "flex": null,
            "_model_name": "LayoutModel",
            "justify_items": null,
            "grid_row": null,
            "max_height": null,
            "align_content": null,
            "visibility": null,
            "align_self": null,
            "height": null,
            "min_height": null,
            "padding": null,
            "grid_auto_rows": null,
            "grid_gap": null,
            "max_width": null,
            "order": null,
            "_view_module_version": "1.2.0",
            "grid_template_areas": null,
            "object_position": null,
            "object_fit": null,
            "grid_auto_columns": null,
            "margin": null,
            "display": null,
            "left": null
          }
        },
        "3251ffc6bc3e4920840abe306a21154a": {
          "model_module": "@jupyter-widgets/controls",
          "model_name": "HTMLModel",
          "model_module_version": "1.5.0",
          "state": {
            "_view_name": "HTMLView",
            "style": "IPY_MODEL_dcd2f36a205a4060bddb1913a171540a",
            "_dom_classes": [],
            "description": "",
            "_model_name": "HTMLModel",
            "placeholder": "​",
            "_view_module": "@jupyter-widgets/controls",
            "_model_module_version": "1.5.0",
            "value": "Downloading: 100%",
            "_view_count": null,
            "_view_module_version": "1.5.0",
            "description_tooltip": null,
            "_model_module": "@jupyter-widgets/controls",
            "layout": "IPY_MODEL_1292021c1b9a4945b2ac9f76fb0c7c3f"
          }
        },
        "847628a624804eae829e7d91db455ca1": {
          "model_module": "@jupyter-widgets/controls",
          "model_name": "FloatProgressModel",
          "model_module_version": "1.5.0",
          "state": {
            "_view_name": "ProgressView",
            "style": "IPY_MODEL_53c8c3293b174a6ba2c8d0cd5a092d59",
            "_dom_classes": [],
            "description": "",
            "_model_name": "FloatProgressModel",
            "bar_style": "success",
            "max": 29,
            "_view_module": "@jupyter-widgets/controls",
            "_model_module_version": "1.5.0",
            "value": 29,
            "_view_count": null,
            "_view_module_version": "1.5.0",
            "orientation": "horizontal",
            "min": 0,
            "description_tooltip": null,
            "_model_module": "@jupyter-widgets/controls",
            "layout": "IPY_MODEL_6d577414668f4cf4b75b48fb46b439f3"
          }
        },
        "95470508e6e342f38a6040f8e7ac764f": {
          "model_module": "@jupyter-widgets/controls",
          "model_name": "HTMLModel",
          "model_module_version": "1.5.0",
          "state": {
            "_view_name": "HTMLView",
            "style": "IPY_MODEL_af85a0b5446246ea9e4180314233e115",
            "_dom_classes": [],
            "description": "",
            "_model_name": "HTMLModel",
            "placeholder": "​",
            "_view_module": "@jupyter-widgets/controls",
            "_model_module_version": "1.5.0",
            "value": " 29.0/29.0 [00:00&lt;00:00, 691B/s]",
            "_view_count": null,
            "_view_module_version": "1.5.0",
            "description_tooltip": null,
            "_model_module": "@jupyter-widgets/controls",
            "layout": "IPY_MODEL_74d0cba5a5ba4b789dc6cb6d2d18fefa"
          }
        },
        "dcd2f36a205a4060bddb1913a171540a": {
          "model_module": "@jupyter-widgets/controls",
          "model_name": "DescriptionStyleModel",
          "model_module_version": "1.5.0",
          "state": {
            "_view_name": "StyleView",
            "_model_name": "DescriptionStyleModel",
            "description_width": "",
            "_view_module": "@jupyter-widgets/base",
            "_model_module_version": "1.5.0",
            "_view_count": null,
            "_view_module_version": "1.2.0",
            "_model_module": "@jupyter-widgets/controls"
          }
        },
        "1292021c1b9a4945b2ac9f76fb0c7c3f": {
          "model_module": "@jupyter-widgets/base",
          "model_name": "LayoutModel",
          "model_module_version": "1.2.0",
          "state": {
            "_view_name": "LayoutView",
            "grid_template_rows": null,
            "right": null,
            "justify_content": null,
            "_view_module": "@jupyter-widgets/base",
            "overflow": null,
            "_model_module_version": "1.2.0",
            "_view_count": null,
            "flex_flow": null,
            "width": null,
            "min_width": null,
            "border": null,
            "align_items": null,
            "bottom": null,
            "_model_module": "@jupyter-widgets/base",
            "top": null,
            "grid_column": null,
            "overflow_y": null,
            "overflow_x": null,
            "grid_auto_flow": null,
            "grid_area": null,
            "grid_template_columns": null,
            "flex": null,
            "_model_name": "LayoutModel",
            "justify_items": null,
            "grid_row": null,
            "max_height": null,
            "align_content": null,
            "visibility": null,
            "align_self": null,
            "height": null,
            "min_height": null,
            "padding": null,
            "grid_auto_rows": null,
            "grid_gap": null,
            "max_width": null,
            "order": null,
            "_view_module_version": "1.2.0",
            "grid_template_areas": null,
            "object_position": null,
            "object_fit": null,
            "grid_auto_columns": null,
            "margin": null,
            "display": null,
            "left": null
          }
        },
        "53c8c3293b174a6ba2c8d0cd5a092d59": {
          "model_module": "@jupyter-widgets/controls",
          "model_name": "ProgressStyleModel",
          "model_module_version": "1.5.0",
          "state": {
            "_view_name": "StyleView",
            "_model_name": "ProgressStyleModel",
            "description_width": "",
            "_view_module": "@jupyter-widgets/base",
            "_model_module_version": "1.5.0",
            "_view_count": null,
            "_view_module_version": "1.2.0",
            "bar_color": null,
            "_model_module": "@jupyter-widgets/controls"
          }
        },
        "6d577414668f4cf4b75b48fb46b439f3": {
          "model_module": "@jupyter-widgets/base",
          "model_name": "LayoutModel",
          "model_module_version": "1.2.0",
          "state": {
            "_view_name": "LayoutView",
            "grid_template_rows": null,
            "right": null,
            "justify_content": null,
            "_view_module": "@jupyter-widgets/base",
            "overflow": null,
            "_model_module_version": "1.2.0",
            "_view_count": null,
            "flex_flow": null,
            "width": null,
            "min_width": null,
            "border": null,
            "align_items": null,
            "bottom": null,
            "_model_module": "@jupyter-widgets/base",
            "top": null,
            "grid_column": null,
            "overflow_y": null,
            "overflow_x": null,
            "grid_auto_flow": null,
            "grid_area": null,
            "grid_template_columns": null,
            "flex": null,
            "_model_name": "LayoutModel",
            "justify_items": null,
            "grid_row": null,
            "max_height": null,
            "align_content": null,
            "visibility": null,
            "align_self": null,
            "height": null,
            "min_height": null,
            "padding": null,
            "grid_auto_rows": null,
            "grid_gap": null,
            "max_width": null,
            "order": null,
            "_view_module_version": "1.2.0",
            "grid_template_areas": null,
            "object_position": null,
            "object_fit": null,
            "grid_auto_columns": null,
            "margin": null,
            "display": null,
            "left": null
          }
        },
        "af85a0b5446246ea9e4180314233e115": {
          "model_module": "@jupyter-widgets/controls",
          "model_name": "DescriptionStyleModel",
          "model_module_version": "1.5.0",
          "state": {
            "_view_name": "StyleView",
            "_model_name": "DescriptionStyleModel",
            "description_width": "",
            "_view_module": "@jupyter-widgets/base",
            "_model_module_version": "1.5.0",
            "_view_count": null,
            "_view_module_version": "1.2.0",
            "_model_module": "@jupyter-widgets/controls"
          }
        },
        "74d0cba5a5ba4b789dc6cb6d2d18fefa": {
          "model_module": "@jupyter-widgets/base",
          "model_name": "LayoutModel",
          "model_module_version": "1.2.0",
          "state": {
            "_view_name": "LayoutView",
            "grid_template_rows": null,
            "right": null,
            "justify_content": null,
            "_view_module": "@jupyter-widgets/base",
            "overflow": null,
            "_model_module_version": "1.2.0",
            "_view_count": null,
            "flex_flow": null,
            "width": null,
            "min_width": null,
            "border": null,
            "align_items": null,
            "bottom": null,
            "_model_module": "@jupyter-widgets/base",
            "top": null,
            "grid_column": null,
            "overflow_y": null,
            "overflow_x": null,
            "grid_auto_flow": null,
            "grid_area": null,
            "grid_template_columns": null,
            "flex": null,
            "_model_name": "LayoutModel",
            "justify_items": null,
            "grid_row": null,
            "max_height": null,
            "align_content": null,
            "visibility": null,
            "align_self": null,
            "height": null,
            "min_height": null,
            "padding": null,
            "grid_auto_rows": null,
            "grid_gap": null,
            "max_width": null,
            "order": null,
            "_view_module_version": "1.2.0",
            "grid_template_areas": null,
            "object_position": null,
            "object_fit": null,
            "grid_auto_columns": null,
            "margin": null,
            "display": null,
            "left": null
          }
        },
        "83b5291c4882487c9dd59f709485b878": {
          "model_module": "@jupyter-widgets/controls",
          "model_name": "HBoxModel",
          "model_module_version": "1.5.0",
          "state": {
            "_view_name": "HBoxView",
            "_dom_classes": [],
            "_model_name": "HBoxModel",
            "_view_module": "@jupyter-widgets/controls",
            "_model_module_version": "1.5.0",
            "_view_count": null,
            "_view_module_version": "1.5.0",
            "box_style": "",
            "layout": "IPY_MODEL_f11139aed9f745d1b9fc59f19be1296f",
            "_model_module": "@jupyter-widgets/controls",
            "children": [
              "IPY_MODEL_71d6982c75e94949899399eb48d265c0",
              "IPY_MODEL_e61f0204751e4bdf87a0f61a26947622",
              "IPY_MODEL_d4566b1753444d798ff95cab7241ffcf"
            ]
          }
        },
        "f11139aed9f745d1b9fc59f19be1296f": {
          "model_module": "@jupyter-widgets/base",
          "model_name": "LayoutModel",
          "model_module_version": "1.2.0",
          "state": {
            "_view_name": "LayoutView",
            "grid_template_rows": null,
            "right": null,
            "justify_content": null,
            "_view_module": "@jupyter-widgets/base",
            "overflow": null,
            "_model_module_version": "1.2.0",
            "_view_count": null,
            "flex_flow": null,
            "width": null,
            "min_width": null,
            "border": null,
            "align_items": null,
            "bottom": null,
            "_model_module": "@jupyter-widgets/base",
            "top": null,
            "grid_column": null,
            "overflow_y": null,
            "overflow_x": null,
            "grid_auto_flow": null,
            "grid_area": null,
            "grid_template_columns": null,
            "flex": null,
            "_model_name": "LayoutModel",
            "justify_items": null,
            "grid_row": null,
            "max_height": null,
            "align_content": null,
            "visibility": null,
            "align_self": null,
            "height": null,
            "min_height": null,
            "padding": null,
            "grid_auto_rows": null,
            "grid_gap": null,
            "max_width": null,
            "order": null,
            "_view_module_version": "1.2.0",
            "grid_template_areas": null,
            "object_position": null,
            "object_fit": null,
            "grid_auto_columns": null,
            "margin": null,
            "display": null,
            "left": null
          }
        },
        "71d6982c75e94949899399eb48d265c0": {
          "model_module": "@jupyter-widgets/controls",
          "model_name": "HTMLModel",
          "model_module_version": "1.5.0",
          "state": {
            "_view_name": "HTMLView",
            "style": "IPY_MODEL_efa4dc3f15924846ac035815f22e0c0f",
            "_dom_classes": [],
            "description": "",
            "_model_name": "HTMLModel",
            "placeholder": "​",
            "_view_module": "@jupyter-widgets/controls",
            "_model_module_version": "1.5.0",
            "value": "Downloading: 100%",
            "_view_count": null,
            "_view_module_version": "1.5.0",
            "description_tooltip": null,
            "_model_module": "@jupyter-widgets/controls",
            "layout": "IPY_MODEL_64ea1cd0568e4b85a23cf57a6f2fbd89"
          }
        },
        "e61f0204751e4bdf87a0f61a26947622": {
          "model_module": "@jupyter-widgets/controls",
          "model_name": "FloatProgressModel",
          "model_module_version": "1.5.0",
          "state": {
            "_view_name": "ProgressView",
            "style": "IPY_MODEL_b1fe58531dd14dccbd38f5383f243eeb",
            "_dom_classes": [],
            "description": "",
            "_model_name": "FloatProgressModel",
            "bar_style": "success",
            "max": 466,
            "_view_module": "@jupyter-widgets/controls",
            "_model_module_version": "1.5.0",
            "value": 466,
            "_view_count": null,
            "_view_module_version": "1.5.0",
            "orientation": "horizontal",
            "min": 0,
            "description_tooltip": null,
            "_model_module": "@jupyter-widgets/controls",
            "layout": "IPY_MODEL_50fab6a509b34c019abc31be01d79d23"
          }
        },
        "d4566b1753444d798ff95cab7241ffcf": {
          "model_module": "@jupyter-widgets/controls",
          "model_name": "HTMLModel",
          "model_module_version": "1.5.0",
          "state": {
            "_view_name": "HTMLView",
            "style": "IPY_MODEL_bb260b5d04b84ed48ddd41ab001fa972",
            "_dom_classes": [],
            "description": "",
            "_model_name": "HTMLModel",
            "placeholder": "​",
            "_view_module": "@jupyter-widgets/controls",
            "_model_module_version": "1.5.0",
            "value": " 466/466 [00:00&lt;00:00, 9.51kB/s]",
            "_view_count": null,
            "_view_module_version": "1.5.0",
            "description_tooltip": null,
            "_model_module": "@jupyter-widgets/controls",
            "layout": "IPY_MODEL_a6ea7b340c7c41d3b46bdcc15c850600"
          }
        },
        "efa4dc3f15924846ac035815f22e0c0f": {
          "model_module": "@jupyter-widgets/controls",
          "model_name": "DescriptionStyleModel",
          "model_module_version": "1.5.0",
          "state": {
            "_view_name": "StyleView",
            "_model_name": "DescriptionStyleModel",
            "description_width": "",
            "_view_module": "@jupyter-widgets/base",
            "_model_module_version": "1.5.0",
            "_view_count": null,
            "_view_module_version": "1.2.0",
            "_model_module": "@jupyter-widgets/controls"
          }
        },
        "64ea1cd0568e4b85a23cf57a6f2fbd89": {
          "model_module": "@jupyter-widgets/base",
          "model_name": "LayoutModel",
          "model_module_version": "1.2.0",
          "state": {
            "_view_name": "LayoutView",
            "grid_template_rows": null,
            "right": null,
            "justify_content": null,
            "_view_module": "@jupyter-widgets/base",
            "overflow": null,
            "_model_module_version": "1.2.0",
            "_view_count": null,
            "flex_flow": null,
            "width": null,
            "min_width": null,
            "border": null,
            "align_items": null,
            "bottom": null,
            "_model_module": "@jupyter-widgets/base",
            "top": null,
            "grid_column": null,
            "overflow_y": null,
            "overflow_x": null,
            "grid_auto_flow": null,
            "grid_area": null,
            "grid_template_columns": null,
            "flex": null,
            "_model_name": "LayoutModel",
            "justify_items": null,
            "grid_row": null,
            "max_height": null,
            "align_content": null,
            "visibility": null,
            "align_self": null,
            "height": null,
            "min_height": null,
            "padding": null,
            "grid_auto_rows": null,
            "grid_gap": null,
            "max_width": null,
            "order": null,
            "_view_module_version": "1.2.0",
            "grid_template_areas": null,
            "object_position": null,
            "object_fit": null,
            "grid_auto_columns": null,
            "margin": null,
            "display": null,
            "left": null
          }
        },
        "b1fe58531dd14dccbd38f5383f243eeb": {
          "model_module": "@jupyter-widgets/controls",
          "model_name": "ProgressStyleModel",
          "model_module_version": "1.5.0",
          "state": {
            "_view_name": "StyleView",
            "_model_name": "ProgressStyleModel",
            "description_width": "",
            "_view_module": "@jupyter-widgets/base",
            "_model_module_version": "1.5.0",
            "_view_count": null,
            "_view_module_version": "1.2.0",
            "bar_color": null,
            "_model_module": "@jupyter-widgets/controls"
          }
        },
        "50fab6a509b34c019abc31be01d79d23": {
          "model_module": "@jupyter-widgets/base",
          "model_name": "LayoutModel",
          "model_module_version": "1.2.0",
          "state": {
            "_view_name": "LayoutView",
            "grid_template_rows": null,
            "right": null,
            "justify_content": null,
            "_view_module": "@jupyter-widgets/base",
            "overflow": null,
            "_model_module_version": "1.2.0",
            "_view_count": null,
            "flex_flow": null,
            "width": null,
            "min_width": null,
            "border": null,
            "align_items": null,
            "bottom": null,
            "_model_module": "@jupyter-widgets/base",
            "top": null,
            "grid_column": null,
            "overflow_y": null,
            "overflow_x": null,
            "grid_auto_flow": null,
            "grid_area": null,
            "grid_template_columns": null,
            "flex": null,
            "_model_name": "LayoutModel",
            "justify_items": null,
            "grid_row": null,
            "max_height": null,
            "align_content": null,
            "visibility": null,
            "align_self": null,
            "height": null,
            "min_height": null,
            "padding": null,
            "grid_auto_rows": null,
            "grid_gap": null,
            "max_width": null,
            "order": null,
            "_view_module_version": "1.2.0",
            "grid_template_areas": null,
            "object_position": null,
            "object_fit": null,
            "grid_auto_columns": null,
            "margin": null,
            "display": null,
            "left": null
          }
        },
        "bb260b5d04b84ed48ddd41ab001fa972": {
          "model_module": "@jupyter-widgets/controls",
          "model_name": "DescriptionStyleModel",
          "model_module_version": "1.5.0",
          "state": {
            "_view_name": "StyleView",
            "_model_name": "DescriptionStyleModel",
            "description_width": "",
            "_view_module": "@jupyter-widgets/base",
            "_model_module_version": "1.5.0",
            "_view_count": null,
            "_view_module_version": "1.2.0",
            "_model_module": "@jupyter-widgets/controls"
          }
        },
        "a6ea7b340c7c41d3b46bdcc15c850600": {
          "model_module": "@jupyter-widgets/base",
          "model_name": "LayoutModel",
          "model_module_version": "1.2.0",
          "state": {
            "_view_name": "LayoutView",
            "grid_template_rows": null,
            "right": null,
            "justify_content": null,
            "_view_module": "@jupyter-widgets/base",
            "overflow": null,
            "_model_module_version": "1.2.0",
            "_view_count": null,
            "flex_flow": null,
            "width": null,
            "min_width": null,
            "border": null,
            "align_items": null,
            "bottom": null,
            "_model_module": "@jupyter-widgets/base",
            "top": null,
            "grid_column": null,
            "overflow_y": null,
            "overflow_x": null,
            "grid_auto_flow": null,
            "grid_area": null,
            "grid_template_columns": null,
            "flex": null,
            "_model_name": "LayoutModel",
            "justify_items": null,
            "grid_row": null,
            "max_height": null,
            "align_content": null,
            "visibility": null,
            "align_self": null,
            "height": null,
            "min_height": null,
            "padding": null,
            "grid_auto_rows": null,
            "grid_gap": null,
            "max_width": null,
            "order": null,
            "_view_module_version": "1.2.0",
            "grid_template_areas": null,
            "object_position": null,
            "object_fit": null,
            "grid_auto_columns": null,
            "margin": null,
            "display": null,
            "left": null
          }
        },
        "ac7eff2f6e0543da84fd3bb2d916830f": {
          "model_module": "@jupyter-widgets/controls",
          "model_name": "HBoxModel",
          "model_module_version": "1.5.0",
          "state": {
            "_view_name": "HBoxView",
            "_dom_classes": [],
            "_model_name": "HBoxModel",
            "_view_module": "@jupyter-widgets/controls",
            "_model_module_version": "1.5.0",
            "_view_count": null,
            "_view_module_version": "1.5.0",
            "box_style": "",
            "layout": "IPY_MODEL_eae1652029244851a3288d14600c0dd0",
            "_model_module": "@jupyter-widgets/controls",
            "children": [
              "IPY_MODEL_60dee29facdc4ba3aa7bb7e66b15f8f1",
              "IPY_MODEL_e919c4362dca4cb98e913186ed562630",
              "IPY_MODEL_85bf5cc950a44a139b9cfeccaf98ec73"
            ]
          }
        },
        "eae1652029244851a3288d14600c0dd0": {
          "model_module": "@jupyter-widgets/base",
          "model_name": "LayoutModel",
          "model_module_version": "1.2.0",
          "state": {
            "_view_name": "LayoutView",
            "grid_template_rows": null,
            "right": null,
            "justify_content": null,
            "_view_module": "@jupyter-widgets/base",
            "overflow": null,
            "_model_module_version": "1.2.0",
            "_view_count": null,
            "flex_flow": null,
            "width": null,
            "min_width": null,
            "border": null,
            "align_items": null,
            "bottom": null,
            "_model_module": "@jupyter-widgets/base",
            "top": null,
            "grid_column": null,
            "overflow_y": null,
            "overflow_x": null,
            "grid_auto_flow": null,
            "grid_area": null,
            "grid_template_columns": null,
            "flex": null,
            "_model_name": "LayoutModel",
            "justify_items": null,
            "grid_row": null,
            "max_height": null,
            "align_content": null,
            "visibility": null,
            "align_self": null,
            "height": null,
            "min_height": null,
            "padding": null,
            "grid_auto_rows": null,
            "grid_gap": null,
            "max_width": null,
            "order": null,
            "_view_module_version": "1.2.0",
            "grid_template_areas": null,
            "object_position": null,
            "object_fit": null,
            "grid_auto_columns": null,
            "margin": null,
            "display": null,
            "left": null
          }
        },
        "60dee29facdc4ba3aa7bb7e66b15f8f1": {
          "model_module": "@jupyter-widgets/controls",
          "model_name": "HTMLModel",
          "model_module_version": "1.5.0",
          "state": {
            "_view_name": "HTMLView",
            "style": "IPY_MODEL_faafd99e34384ed7b3a58eabb14a6011",
            "_dom_classes": [],
            "description": "",
            "_model_name": "HTMLModel",
            "placeholder": "​",
            "_view_module": "@jupyter-widgets/controls",
            "_model_module_version": "1.5.0",
            "value": "Downloading: 100%",
            "_view_count": null,
            "_view_module_version": "1.5.0",
            "description_tooltip": null,
            "_model_module": "@jupyter-widgets/controls",
            "layout": "IPY_MODEL_64c9c248eb1f4b4bac1f8019325fb198"
          }
        },
        "e919c4362dca4cb98e913186ed562630": {
          "model_module": "@jupyter-widgets/controls",
          "model_name": "FloatProgressModel",
          "model_module_version": "1.5.0",
          "state": {
            "_view_name": "ProgressView",
            "style": "IPY_MODEL_085c5c38f9ef4b51bc6daecbb9625e6b",
            "_dom_classes": [],
            "description": "",
            "_model_name": "FloatProgressModel",
            "bar_style": "success",
            "max": 995526,
            "_view_module": "@jupyter-widgets/controls",
            "_model_module_version": "1.5.0",
            "value": 995526,
            "_view_count": null,
            "_view_module_version": "1.5.0",
            "orientation": "horizontal",
            "min": 0,
            "description_tooltip": null,
            "_model_module": "@jupyter-widgets/controls",
            "layout": "IPY_MODEL_ea43d2cc701541108e8d4088671d475f"
          }
        },
        "85bf5cc950a44a139b9cfeccaf98ec73": {
          "model_module": "@jupyter-widgets/controls",
          "model_name": "HTMLModel",
          "model_module_version": "1.5.0",
          "state": {
            "_view_name": "HTMLView",
            "style": "IPY_MODEL_8a43d944c56a4e459051b958cc7fd948",
            "_dom_classes": [],
            "description": "",
            "_model_name": "HTMLModel",
            "placeholder": "​",
            "_view_module": "@jupyter-widgets/controls",
            "_model_module_version": "1.5.0",
            "value": " 972k/972k [00:00&lt;00:00, 1.64MB/s]",
            "_view_count": null,
            "_view_module_version": "1.5.0",
            "description_tooltip": null,
            "_model_module": "@jupyter-widgets/controls",
            "layout": "IPY_MODEL_42b3ea2a161841cd829290f5b9c492db"
          }
        },
        "faafd99e34384ed7b3a58eabb14a6011": {
          "model_module": "@jupyter-widgets/controls",
          "model_name": "DescriptionStyleModel",
          "model_module_version": "1.5.0",
          "state": {
            "_view_name": "StyleView",
            "_model_name": "DescriptionStyleModel",
            "description_width": "",
            "_view_module": "@jupyter-widgets/base",
            "_model_module_version": "1.5.0",
            "_view_count": null,
            "_view_module_version": "1.2.0",
            "_model_module": "@jupyter-widgets/controls"
          }
        },
        "64c9c248eb1f4b4bac1f8019325fb198": {
          "model_module": "@jupyter-widgets/base",
          "model_name": "LayoutModel",
          "model_module_version": "1.2.0",
          "state": {
            "_view_name": "LayoutView",
            "grid_template_rows": null,
            "right": null,
            "justify_content": null,
            "_view_module": "@jupyter-widgets/base",
            "overflow": null,
            "_model_module_version": "1.2.0",
            "_view_count": null,
            "flex_flow": null,
            "width": null,
            "min_width": null,
            "border": null,
            "align_items": null,
            "bottom": null,
            "_model_module": "@jupyter-widgets/base",
            "top": null,
            "grid_column": null,
            "overflow_y": null,
            "overflow_x": null,
            "grid_auto_flow": null,
            "grid_area": null,
            "grid_template_columns": null,
            "flex": null,
            "_model_name": "LayoutModel",
            "justify_items": null,
            "grid_row": null,
            "max_height": null,
            "align_content": null,
            "visibility": null,
            "align_self": null,
            "height": null,
            "min_height": null,
            "padding": null,
            "grid_auto_rows": null,
            "grid_gap": null,
            "max_width": null,
            "order": null,
            "_view_module_version": "1.2.0",
            "grid_template_areas": null,
            "object_position": null,
            "object_fit": null,
            "grid_auto_columns": null,
            "margin": null,
            "display": null,
            "left": null
          }
        },
        "085c5c38f9ef4b51bc6daecbb9625e6b": {
          "model_module": "@jupyter-widgets/controls",
          "model_name": "ProgressStyleModel",
          "model_module_version": "1.5.0",
          "state": {
            "_view_name": "StyleView",
            "_model_name": "ProgressStyleModel",
            "description_width": "",
            "_view_module": "@jupyter-widgets/base",
            "_model_module_version": "1.5.0",
            "_view_count": null,
            "_view_module_version": "1.2.0",
            "bar_color": null,
            "_model_module": "@jupyter-widgets/controls"
          }
        },
        "ea43d2cc701541108e8d4088671d475f": {
          "model_module": "@jupyter-widgets/base",
          "model_name": "LayoutModel",
          "model_module_version": "1.2.0",
          "state": {
            "_view_name": "LayoutView",
            "grid_template_rows": null,
            "right": null,
            "justify_content": null,
            "_view_module": "@jupyter-widgets/base",
            "overflow": null,
            "_model_module_version": "1.2.0",
            "_view_count": null,
            "flex_flow": null,
            "width": null,
            "min_width": null,
            "border": null,
            "align_items": null,
            "bottom": null,
            "_model_module": "@jupyter-widgets/base",
            "top": null,
            "grid_column": null,
            "overflow_y": null,
            "overflow_x": null,
            "grid_auto_flow": null,
            "grid_area": null,
            "grid_template_columns": null,
            "flex": null,
            "_model_name": "LayoutModel",
            "justify_items": null,
            "grid_row": null,
            "max_height": null,
            "align_content": null,
            "visibility": null,
            "align_self": null,
            "height": null,
            "min_height": null,
            "padding": null,
            "grid_auto_rows": null,
            "grid_gap": null,
            "max_width": null,
            "order": null,
            "_view_module_version": "1.2.0",
            "grid_template_areas": null,
            "object_position": null,
            "object_fit": null,
            "grid_auto_columns": null,
            "margin": null,
            "display": null,
            "left": null
          }
        },
        "8a43d944c56a4e459051b958cc7fd948": {
          "model_module": "@jupyter-widgets/controls",
          "model_name": "DescriptionStyleModel",
          "model_module_version": "1.5.0",
          "state": {
            "_view_name": "StyleView",
            "_model_name": "DescriptionStyleModel",
            "description_width": "",
            "_view_module": "@jupyter-widgets/base",
            "_model_module_version": "1.5.0",
            "_view_count": null,
            "_view_module_version": "1.2.0",
            "_model_module": "@jupyter-widgets/controls"
          }
        },
        "42b3ea2a161841cd829290f5b9c492db": {
          "model_module": "@jupyter-widgets/base",
          "model_name": "LayoutModel",
          "model_module_version": "1.2.0",
          "state": {
            "_view_name": "LayoutView",
            "grid_template_rows": null,
            "right": null,
            "justify_content": null,
            "_view_module": "@jupyter-widgets/base",
            "overflow": null,
            "_model_module_version": "1.2.0",
            "_view_count": null,
            "flex_flow": null,
            "width": null,
            "min_width": null,
            "border": null,
            "align_items": null,
            "bottom": null,
            "_model_module": "@jupyter-widgets/base",
            "top": null,
            "grid_column": null,
            "overflow_y": null,
            "overflow_x": null,
            "grid_auto_flow": null,
            "grid_area": null,
            "grid_template_columns": null,
            "flex": null,
            "_model_name": "LayoutModel",
            "justify_items": null,
            "grid_row": null,
            "max_height": null,
            "align_content": null,
            "visibility": null,
            "align_self": null,
            "height": null,
            "min_height": null,
            "padding": null,
            "grid_auto_rows": null,
            "grid_gap": null,
            "max_width": null,
            "order": null,
            "_view_module_version": "1.2.0",
            "grid_template_areas": null,
            "object_position": null,
            "object_fit": null,
            "grid_auto_columns": null,
            "margin": null,
            "display": null,
            "left": null
          }
        },
        "c90ae23798d14fdd977e5dcf937b77e1": {
          "model_module": "@jupyter-widgets/controls",
          "model_name": "HBoxModel",
          "model_module_version": "1.5.0",
          "state": {
            "_view_name": "HBoxView",
            "_dom_classes": [],
            "_model_name": "HBoxModel",
            "_view_module": "@jupyter-widgets/controls",
            "_model_module_version": "1.5.0",
            "_view_count": null,
            "_view_module_version": "1.5.0",
            "box_style": "",
            "layout": "IPY_MODEL_2ef24ef6b5a748ee827c522cc8bed9fc",
            "_model_module": "@jupyter-widgets/controls",
            "children": [
              "IPY_MODEL_cb70714a0eeb4444bef610ce9933badf",
              "IPY_MODEL_74187d13d164450ab934e3e93928baf9",
              "IPY_MODEL_0e23f974c8e347089d4fe15cac97f6be"
            ]
          }
        },
        "2ef24ef6b5a748ee827c522cc8bed9fc": {
          "model_module": "@jupyter-widgets/base",
          "model_name": "LayoutModel",
          "model_module_version": "1.2.0",
          "state": {
            "_view_name": "LayoutView",
            "grid_template_rows": null,
            "right": null,
            "justify_content": null,
            "_view_module": "@jupyter-widgets/base",
            "overflow": null,
            "_model_module_version": "1.2.0",
            "_view_count": null,
            "flex_flow": null,
            "width": null,
            "min_width": null,
            "border": null,
            "align_items": null,
            "bottom": null,
            "_model_module": "@jupyter-widgets/base",
            "top": null,
            "grid_column": null,
            "overflow_y": null,
            "overflow_x": null,
            "grid_auto_flow": null,
            "grid_area": null,
            "grid_template_columns": null,
            "flex": null,
            "_model_name": "LayoutModel",
            "justify_items": null,
            "grid_row": null,
            "max_height": null,
            "align_content": null,
            "visibility": null,
            "align_self": null,
            "height": null,
            "min_height": null,
            "padding": null,
            "grid_auto_rows": null,
            "grid_gap": null,
            "max_width": null,
            "order": null,
            "_view_module_version": "1.2.0",
            "grid_template_areas": null,
            "object_position": null,
            "object_fit": null,
            "grid_auto_columns": null,
            "margin": null,
            "display": null,
            "left": null
          }
        },
        "cb70714a0eeb4444bef610ce9933badf": {
          "model_module": "@jupyter-widgets/controls",
          "model_name": "HTMLModel",
          "model_module_version": "1.5.0",
          "state": {
            "_view_name": "HTMLView",
            "style": "IPY_MODEL_46ec33c5d97e48f4afcd64899961cf35",
            "_dom_classes": [],
            "description": "",
            "_model_name": "HTMLModel",
            "placeholder": "​",
            "_view_module": "@jupyter-widgets/controls",
            "_model_module_version": "1.5.0",
            "value": "Downloading: 100%",
            "_view_count": null,
            "_view_module_version": "1.5.0",
            "description_tooltip": null,
            "_model_module": "@jupyter-widgets/controls",
            "layout": "IPY_MODEL_4d673aa47f144b45a3f9d2c1075ccf71"
          }
        },
        "74187d13d164450ab934e3e93928baf9": {
          "model_module": "@jupyter-widgets/controls",
          "model_name": "FloatProgressModel",
          "model_module_version": "1.5.0",
          "state": {
            "_view_name": "ProgressView",
            "style": "IPY_MODEL_862a4db18ac140529f37c2e0d01ac499",
            "_dom_classes": [],
            "description": "",
            "_model_name": "FloatProgressModel",
            "bar_style": "success",
            "max": 1961828,
            "_view_module": "@jupyter-widgets/controls",
            "_model_module_version": "1.5.0",
            "value": 1961828,
            "_view_count": null,
            "_view_module_version": "1.5.0",
            "orientation": "horizontal",
            "min": 0,
            "description_tooltip": null,
            "_model_module": "@jupyter-widgets/controls",
            "layout": "IPY_MODEL_bf040e5116a740fe9b2ad6a938415d2e"
          }
        },
        "0e23f974c8e347089d4fe15cac97f6be": {
          "model_module": "@jupyter-widgets/controls",
          "model_name": "HTMLModel",
          "model_module_version": "1.5.0",
          "state": {
            "_view_name": "HTMLView",
            "style": "IPY_MODEL_7bf8d751a5a74c33aa9f0b18a11e85e9",
            "_dom_classes": [],
            "description": "",
            "_model_name": "HTMLModel",
            "placeholder": "​",
            "_view_module": "@jupyter-widgets/controls",
            "_model_module_version": "1.5.0",
            "value": " 1.87M/1.87M [00:00&lt;00:00, 9.18MB/s]",
            "_view_count": null,
            "_view_module_version": "1.5.0",
            "description_tooltip": null,
            "_model_module": "@jupyter-widgets/controls",
            "layout": "IPY_MODEL_ea0e7c19a02b4d1bb1f09af6aec7071b"
          }
        },
        "46ec33c5d97e48f4afcd64899961cf35": {
          "model_module": "@jupyter-widgets/controls",
          "model_name": "DescriptionStyleModel",
          "model_module_version": "1.5.0",
          "state": {
            "_view_name": "StyleView",
            "_model_name": "DescriptionStyleModel",
            "description_width": "",
            "_view_module": "@jupyter-widgets/base",
            "_model_module_version": "1.5.0",
            "_view_count": null,
            "_view_module_version": "1.2.0",
            "_model_module": "@jupyter-widgets/controls"
          }
        },
        "4d673aa47f144b45a3f9d2c1075ccf71": {
          "model_module": "@jupyter-widgets/base",
          "model_name": "LayoutModel",
          "model_module_version": "1.2.0",
          "state": {
            "_view_name": "LayoutView",
            "grid_template_rows": null,
            "right": null,
            "justify_content": null,
            "_view_module": "@jupyter-widgets/base",
            "overflow": null,
            "_model_module_version": "1.2.0",
            "_view_count": null,
            "flex_flow": null,
            "width": null,
            "min_width": null,
            "border": null,
            "align_items": null,
            "bottom": null,
            "_model_module": "@jupyter-widgets/base",
            "top": null,
            "grid_column": null,
            "overflow_y": null,
            "overflow_x": null,
            "grid_auto_flow": null,
            "grid_area": null,
            "grid_template_columns": null,
            "flex": null,
            "_model_name": "LayoutModel",
            "justify_items": null,
            "grid_row": null,
            "max_height": null,
            "align_content": null,
            "visibility": null,
            "align_self": null,
            "height": null,
            "min_height": null,
            "padding": null,
            "grid_auto_rows": null,
            "grid_gap": null,
            "max_width": null,
            "order": null,
            "_view_module_version": "1.2.0",
            "grid_template_areas": null,
            "object_position": null,
            "object_fit": null,
            "grid_auto_columns": null,
            "margin": null,
            "display": null,
            "left": null
          }
        },
        "862a4db18ac140529f37c2e0d01ac499": {
          "model_module": "@jupyter-widgets/controls",
          "model_name": "ProgressStyleModel",
          "model_module_version": "1.5.0",
          "state": {
            "_view_name": "StyleView",
            "_model_name": "ProgressStyleModel",
            "description_width": "",
            "_view_module": "@jupyter-widgets/base",
            "_model_module_version": "1.5.0",
            "_view_count": null,
            "_view_module_version": "1.2.0",
            "bar_color": null,
            "_model_module": "@jupyter-widgets/controls"
          }
        },
        "bf040e5116a740fe9b2ad6a938415d2e": {
          "model_module": "@jupyter-widgets/base",
          "model_name": "LayoutModel",
          "model_module_version": "1.2.0",
          "state": {
            "_view_name": "LayoutView",
            "grid_template_rows": null,
            "right": null,
            "justify_content": null,
            "_view_module": "@jupyter-widgets/base",
            "overflow": null,
            "_model_module_version": "1.2.0",
            "_view_count": null,
            "flex_flow": null,
            "width": null,
            "min_width": null,
            "border": null,
            "align_items": null,
            "bottom": null,
            "_model_module": "@jupyter-widgets/base",
            "top": null,
            "grid_column": null,
            "overflow_y": null,
            "overflow_x": null,
            "grid_auto_flow": null,
            "grid_area": null,
            "grid_template_columns": null,
            "flex": null,
            "_model_name": "LayoutModel",
            "justify_items": null,
            "grid_row": null,
            "max_height": null,
            "align_content": null,
            "visibility": null,
            "align_self": null,
            "height": null,
            "min_height": null,
            "padding": null,
            "grid_auto_rows": null,
            "grid_gap": null,
            "max_width": null,
            "order": null,
            "_view_module_version": "1.2.0",
            "grid_template_areas": null,
            "object_position": null,
            "object_fit": null,
            "grid_auto_columns": null,
            "margin": null,
            "display": null,
            "left": null
          }
        },
        "7bf8d751a5a74c33aa9f0b18a11e85e9": {
          "model_module": "@jupyter-widgets/controls",
          "model_name": "DescriptionStyleModel",
          "model_module_version": "1.5.0",
          "state": {
            "_view_name": "StyleView",
            "_model_name": "DescriptionStyleModel",
            "description_width": "",
            "_view_module": "@jupyter-widgets/base",
            "_model_module_version": "1.5.0",
            "_view_count": null,
            "_view_module_version": "1.2.0",
            "_model_module": "@jupyter-widgets/controls"
          }
        },
        "ea0e7c19a02b4d1bb1f09af6aec7071b": {
          "model_module": "@jupyter-widgets/base",
          "model_name": "LayoutModel",
          "model_module_version": "1.2.0",
          "state": {
            "_view_name": "LayoutView",
            "grid_template_rows": null,
            "right": null,
            "justify_content": null,
            "_view_module": "@jupyter-widgets/base",
            "overflow": null,
            "_model_module_version": "1.2.0",
            "_view_count": null,
            "flex_flow": null,
            "width": null,
            "min_width": null,
            "border": null,
            "align_items": null,
            "bottom": null,
            "_model_module": "@jupyter-widgets/base",
            "top": null,
            "grid_column": null,
            "overflow_y": null,
            "overflow_x": null,
            "grid_auto_flow": null,
            "grid_area": null,
            "grid_template_columns": null,
            "flex": null,
            "_model_name": "LayoutModel",
            "justify_items": null,
            "grid_row": null,
            "max_height": null,
            "align_content": null,
            "visibility": null,
            "align_self": null,
            "height": null,
            "min_height": null,
            "padding": null,
            "grid_auto_rows": null,
            "grid_gap": null,
            "max_width": null,
            "order": null,
            "_view_module_version": "1.2.0",
            "grid_template_areas": null,
            "object_position": null,
            "object_fit": null,
            "grid_auto_columns": null,
            "margin": null,
            "display": null,
            "left": null
          }
        },
        "4a06eec7a0b44a6fb0fd81aa03f58668": {
          "model_module": "@jupyter-widgets/controls",
          "model_name": "HBoxModel",
          "model_module_version": "1.5.0",
          "state": {
            "_view_name": "HBoxView",
            "_dom_classes": [],
            "_model_name": "HBoxModel",
            "_view_module": "@jupyter-widgets/controls",
            "_model_module_version": "1.5.0",
            "_view_count": null,
            "_view_module_version": "1.5.0",
            "box_style": "",
            "layout": "IPY_MODEL_306f72f1cb294914af45403bcb607af5",
            "_model_module": "@jupyter-widgets/controls",
            "children": [
              "IPY_MODEL_14a50f992b064717945da7989509abe3",
              "IPY_MODEL_e48ea341af2e42dbb8e66073843107d8",
              "IPY_MODEL_4743e9b33ccf45db87776cb920fc19b7"
            ]
          }
        },
        "306f72f1cb294914af45403bcb607af5": {
          "model_module": "@jupyter-widgets/base",
          "model_name": "LayoutModel",
          "model_module_version": "1.2.0",
          "state": {
            "_view_name": "LayoutView",
            "grid_template_rows": null,
            "right": null,
            "justify_content": null,
            "_view_module": "@jupyter-widgets/base",
            "overflow": null,
            "_model_module_version": "1.2.0",
            "_view_count": null,
            "flex_flow": null,
            "width": null,
            "min_width": null,
            "border": null,
            "align_items": null,
            "bottom": null,
            "_model_module": "@jupyter-widgets/base",
            "top": null,
            "grid_column": null,
            "overflow_y": null,
            "overflow_x": null,
            "grid_auto_flow": null,
            "grid_area": null,
            "grid_template_columns": null,
            "flex": null,
            "_model_name": "LayoutModel",
            "justify_items": null,
            "grid_row": null,
            "max_height": null,
            "align_content": null,
            "visibility": null,
            "align_self": null,
            "height": null,
            "min_height": null,
            "padding": null,
            "grid_auto_rows": null,
            "grid_gap": null,
            "max_width": null,
            "order": null,
            "_view_module_version": "1.2.0",
            "grid_template_areas": null,
            "object_position": null,
            "object_fit": null,
            "grid_auto_columns": null,
            "margin": null,
            "display": null,
            "left": null
          }
        },
        "14a50f992b064717945da7989509abe3": {
          "model_module": "@jupyter-widgets/controls",
          "model_name": "HTMLModel",
          "model_module_version": "1.5.0",
          "state": {
            "_view_name": "HTMLView",
            "style": "IPY_MODEL_4f1b8adf12bd43c2b90e5c0a197892fd",
            "_dom_classes": [],
            "description": "",
            "_model_name": "HTMLModel",
            "placeholder": "​",
            "_view_module": "@jupyter-widgets/controls",
            "_model_module_version": "1.5.0",
            "value": "Downloading: 100%",
            "_view_count": null,
            "_view_module_version": "1.5.0",
            "description_tooltip": null,
            "_model_module": "@jupyter-widgets/controls",
            "layout": "IPY_MODEL_63dc7f04e8914e8e8a60eec20058256c"
          }
        },
        "e48ea341af2e42dbb8e66073843107d8": {
          "model_module": "@jupyter-widgets/controls",
          "model_name": "FloatProgressModel",
          "model_module_version": "1.5.0",
          "state": {
            "_view_name": "ProgressView",
            "style": "IPY_MODEL_d0cc4002ca1245d28f31659bdfdbf3f9",
            "_dom_classes": [],
            "description": "",
            "_model_name": "FloatProgressModel",
            "bar_style": "success",
            "max": 541808922,
            "_view_module": "@jupyter-widgets/controls",
            "_model_module_version": "1.5.0",
            "value": 541808922,
            "_view_count": null,
            "_view_module_version": "1.5.0",
            "orientation": "horizontal",
            "min": 0,
            "description_tooltip": null,
            "_model_module": "@jupyter-widgets/controls",
            "layout": "IPY_MODEL_5468f251316a4113b66925ab174fb044"
          }
        },
        "4743e9b33ccf45db87776cb920fc19b7": {
          "model_module": "@jupyter-widgets/controls",
          "model_name": "HTMLModel",
          "model_module_version": "1.5.0",
          "state": {
            "_view_name": "HTMLView",
            "style": "IPY_MODEL_8cb756fefa74494d9e10eacbaaa89749",
            "_dom_classes": [],
            "description": "",
            "_model_name": "HTMLModel",
            "placeholder": "​",
            "_view_module": "@jupyter-widgets/controls",
            "_model_module_version": "1.5.0",
            "value": " 517M/517M [00:39&lt;00:00, 31.3MB/s]",
            "_view_count": null,
            "_view_module_version": "1.5.0",
            "description_tooltip": null,
            "_model_module": "@jupyter-widgets/controls",
            "layout": "IPY_MODEL_4a47b98c0d594a0ea3e827af99770f93"
          }
        },
        "4f1b8adf12bd43c2b90e5c0a197892fd": {
          "model_module": "@jupyter-widgets/controls",
          "model_name": "DescriptionStyleModel",
          "model_module_version": "1.5.0",
          "state": {
            "_view_name": "StyleView",
            "_model_name": "DescriptionStyleModel",
            "description_width": "",
            "_view_module": "@jupyter-widgets/base",
            "_model_module_version": "1.5.0",
            "_view_count": null,
            "_view_module_version": "1.2.0",
            "_model_module": "@jupyter-widgets/controls"
          }
        },
        "63dc7f04e8914e8e8a60eec20058256c": {
          "model_module": "@jupyter-widgets/base",
          "model_name": "LayoutModel",
          "model_module_version": "1.2.0",
          "state": {
            "_view_name": "LayoutView",
            "grid_template_rows": null,
            "right": null,
            "justify_content": null,
            "_view_module": "@jupyter-widgets/base",
            "overflow": null,
            "_model_module_version": "1.2.0",
            "_view_count": null,
            "flex_flow": null,
            "width": null,
            "min_width": null,
            "border": null,
            "align_items": null,
            "bottom": null,
            "_model_module": "@jupyter-widgets/base",
            "top": null,
            "grid_column": null,
            "overflow_y": null,
            "overflow_x": null,
            "grid_auto_flow": null,
            "grid_area": null,
            "grid_template_columns": null,
            "flex": null,
            "_model_name": "LayoutModel",
            "justify_items": null,
            "grid_row": null,
            "max_height": null,
            "align_content": null,
            "visibility": null,
            "align_self": null,
            "height": null,
            "min_height": null,
            "padding": null,
            "grid_auto_rows": null,
            "grid_gap": null,
            "max_width": null,
            "order": null,
            "_view_module_version": "1.2.0",
            "grid_template_areas": null,
            "object_position": null,
            "object_fit": null,
            "grid_auto_columns": null,
            "margin": null,
            "display": null,
            "left": null
          }
        },
        "d0cc4002ca1245d28f31659bdfdbf3f9": {
          "model_module": "@jupyter-widgets/controls",
          "model_name": "ProgressStyleModel",
          "model_module_version": "1.5.0",
          "state": {
            "_view_name": "StyleView",
            "_model_name": "ProgressStyleModel",
            "description_width": "",
            "_view_module": "@jupyter-widgets/base",
            "_model_module_version": "1.5.0",
            "_view_count": null,
            "_view_module_version": "1.2.0",
            "bar_color": null,
            "_model_module": "@jupyter-widgets/controls"
          }
        },
        "5468f251316a4113b66925ab174fb044": {
          "model_module": "@jupyter-widgets/base",
          "model_name": "LayoutModel",
          "model_module_version": "1.2.0",
          "state": {
            "_view_name": "LayoutView",
            "grid_template_rows": null,
            "right": null,
            "justify_content": null,
            "_view_module": "@jupyter-widgets/base",
            "overflow": null,
            "_model_module_version": "1.2.0",
            "_view_count": null,
            "flex_flow": null,
            "width": null,
            "min_width": null,
            "border": null,
            "align_items": null,
            "bottom": null,
            "_model_module": "@jupyter-widgets/base",
            "top": null,
            "grid_column": null,
            "overflow_y": null,
            "overflow_x": null,
            "grid_auto_flow": null,
            "grid_area": null,
            "grid_template_columns": null,
            "flex": null,
            "_model_name": "LayoutModel",
            "justify_items": null,
            "grid_row": null,
            "max_height": null,
            "align_content": null,
            "visibility": null,
            "align_self": null,
            "height": null,
            "min_height": null,
            "padding": null,
            "grid_auto_rows": null,
            "grid_gap": null,
            "max_width": null,
            "order": null,
            "_view_module_version": "1.2.0",
            "grid_template_areas": null,
            "object_position": null,
            "object_fit": null,
            "grid_auto_columns": null,
            "margin": null,
            "display": null,
            "left": null
          }
        },
        "8cb756fefa74494d9e10eacbaaa89749": {
          "model_module": "@jupyter-widgets/controls",
          "model_name": "DescriptionStyleModel",
          "model_module_version": "1.5.0",
          "state": {
            "_view_name": "StyleView",
            "_model_name": "DescriptionStyleModel",
            "description_width": "",
            "_view_module": "@jupyter-widgets/base",
            "_model_module_version": "1.5.0",
            "_view_count": null,
            "_view_module_version": "1.2.0",
            "_model_module": "@jupyter-widgets/controls"
          }
        },
        "4a47b98c0d594a0ea3e827af99770f93": {
          "model_module": "@jupyter-widgets/base",
          "model_name": "LayoutModel",
          "model_module_version": "1.2.0",
          "state": {
            "_view_name": "LayoutView",
            "grid_template_rows": null,
            "right": null,
            "justify_content": null,
            "_view_module": "@jupyter-widgets/base",
            "overflow": null,
            "_model_module_version": "1.2.0",
            "_view_count": null,
            "flex_flow": null,
            "width": null,
            "min_width": null,
            "border": null,
            "align_items": null,
            "bottom": null,
            "_model_module": "@jupyter-widgets/base",
            "top": null,
            "grid_column": null,
            "overflow_y": null,
            "overflow_x": null,
            "grid_auto_flow": null,
            "grid_area": null,
            "grid_template_columns": null,
            "flex": null,
            "_model_name": "LayoutModel",
            "justify_items": null,
            "grid_row": null,
            "max_height": null,
            "align_content": null,
            "visibility": null,
            "align_self": null,
            "height": null,
            "min_height": null,
            "padding": null,
            "grid_auto_rows": null,
            "grid_gap": null,
            "max_width": null,
            "order": null,
            "_view_module_version": "1.2.0",
            "grid_template_areas": null,
            "object_position": null,
            "object_fit": null,
            "grid_auto_columns": null,
            "margin": null,
            "display": null,
            "left": null
          }
        }
      }
    }
  },
  "cells": [
    {
      "cell_type": "code",
      "execution_count": null,
      "metadata": {
        "id": "vJltRFvohi6-"
      },
      "outputs": [],
      "source": [
        "##Preprocessing to be done\n",
        "# 1. Removing URLs \n",
        "# 2. Removing Stopwords\n",
        "# 3. Whether to remove emojis or hashtags - doubt\n",
        "\n",
        "## Steps to run this colab notebook\n",
        "# 1. Open this notebook in colab\n",
        "# 2. Upload the dataset in your google drive\n",
        "# 3. Update the path locations and run the notebook"
      ]
    },
    {
      "cell_type": "code",
      "source": [
        "from google.colab import drive\n",
        "drive.mount('/content/gdrive')"
      ],
      "metadata": {
        "colab": {
          "base_uri": "https://localhost:8080/"
        },
        "id": "xQRoRha90kfU",
        "outputId": "ba86f3a0-274e-4ab3-f686-9126cdc8ff63"
      },
      "execution_count": 1,
      "outputs": [
        {
          "output_type": "stream",
          "name": "stdout",
          "text": [
            "Mounted at /content/gdrive\n"
          ]
        }
      ]
    },
    {
      "cell_type": "code",
      "source": [
        "import pandas as pd\n",
        "import numpy as np\n",
        "pd.set_option('display.max_colwidth',None)   #this displays the dataframe in full width\n",
        "import collections\n",
        "from collections import Counter"
      ],
      "metadata": {
        "id": "Gft4tSx6wYD2"
      },
      "execution_count": 2,
      "outputs": []
    },
    {
      "cell_type": "code",
      "source": [
        "df = pd.read_csv('/content/gdrive/MyDrive/telugu_humour_final - Sheet1.csv') \n",
        "df = df.astype({'Text':str})\n",
        "print(df.shape[0])\n",
        "df.head(10)\n",
        "# /content/gdrive/MyDrive/telugu_trial.gsheet"
      ],
      "metadata": {
        "colab": {
          "base_uri": "https://localhost:8080/",
          "height": 598
        },
        "id": "0wylKzcdznp1",
        "outputId": "22b40e80-cb77-4844-dba6-e10f0e56e836"
      },
      "execution_count": 5,
      "outputs": [
        {
          "output_type": "stream",
          "name": "stdout",
          "text": [
            "2649\n"
          ]
        },
        {
          "output_type": "execute_result",
          "data": {
            "text/plain": [
              "   Random_drop_index                   Datetime      Tweet Id  \\\n",
              "0                  0  2022-02-14 12:30:25+00:00  1.493201e+18   \n",
              "1                  1  2022-02-13 16:52:54+00:00  1.492905e+18   \n",
              "2                  2  2022-02-12 02:00:24+00:00  1.492318e+18   \n",
              "3                  3  2022-02-11 10:12:57+00:00  1.492079e+18   \n",
              "4                  4  2022-02-09 12:57:09+00:00  1.491396e+18   \n",
              "5                  5  2022-02-09 04:42:09+00:00  1.491271e+18   \n",
              "6                  6  2022-02-08 07:43:33+00:00  1.490954e+18   \n",
              "7                  7  2022-02-08 01:16:15+00:00  1.490857e+18   \n",
              "8                  8  2022-02-06 01:56:22+00:00  1.490142e+18   \n",
              "9                  9  2022-02-05 19:29:12+00:00  1.490045e+18   \n",
              "\n",
              "                                                                                                                                                                                                                                                                     Text  \\\n",
              "0                                                                     పని మనిషిగా చేశా.. సీనియర్ నటి ఎమోషనల్ కామెంట్స్..!!\\n\\nచిత్ర పరిశ్రమ అనే మాయా ప్రపంచంలో ప్రతి ఒకటి రంగుల హరివిల్లుల\\n\\n#krishnaveni #Alithosaradaga #Industries #Comedy\\n\\nhttps://t.co/YFJ115iFj8   \n",
              "1                                                                                                                                                                    కంగారు నీకు అనవసరంగా వస్తుంది ఏమో          నాకు రక్తంలో ఉంది రా bloody Tool.            #fun #sarada   \n",
              "2             రివ్యూ: రెచ్చిపోతున్న డీజే టిల్లు..!!\\n\\nఇక ఈ రోజున డీజే టిల్లు సినిమా విడుదల కాగా.. ప్రేక్షకులు మంచి రెస్పాన్స్ లభిస్తున్నట్లుగా సమాచారం. మరొక సారి తన ఎనర్జీత\\n\\n#nehashetty #siddhu #Comedy #Audience\\n\\n@DuvvadaJagannadham \\n\\nhttps://t.co/CJ0LFjzELR   \n",
              "3                                                                                                                                 ఎయిర్‌టెల్ ఇంటర్నెట్ డౌన్... ఫన్నీ మీమ్‌లతో పిచ్చెక్కిచ్చిన నెటిజ‌న్లు! \\n#InternetDown #Airtel #Funny #memes \\nhttps://t.co/e3sxZdzlCT   \n",
              "4  రవితేజ ఫ్యాన్స్ కి బిగ్ షాక్..?\\n\\nటాలీవుడ్ మాస్ మహారాజా రవితేజ తాజాగా నటించిన చిత్రం కిలాడి. రమేష్ వర్మ దర్శకత్వంలో హై వోల్టేజ్ యాక్షన్ డ్రామాగా తెరకెక్కుతు\\n\\n#prasad #choudaryactor #raviteja #Comedy\\n\\n@JiivaOfficial @RaviTeja_offl \\n\\nhttps://t.co/iofIaw6z36   \n",
              "5                                                                                                                                                                    ఎందయ్య....\\n\\n          ఈ #తమాషా......\\n\\n                   మై #హోం..... 😂😂 https://t.co/NUhq8v7EDd   \n",
              "6                                                                               బ్రహ్మీ తెలుగూఫ్ కి పులిహోర తినాలనిపించింది. వాళ్ళావిడని పిలిచాడు...\\n\\n\"కల్పనా?\"\\n\\n\"కలిపేయండి\" అటు నుంచీ సమాధానం వచ్చింది. మనసు గ్రహిస్తూ\\n\\n#Joke #humour #brahmi #Telugoofs #Pulihora   \n",
              "7                                     దేవుడా: యాంకర్ వర్షిణి రాత్రి అయితే చాలు అవే సెర్చ్ చేస్తుందా.?\\n\\nయాంకర్ వర్షిణి అందరికి సుపరిచతమైన వ్యక్తి. ఆమె బుల్లితెరపై పాలు షోలు\\n\\n#anasuyabharadwaj #Anasuya #Raccha #Comedy\\n\\n@anusuyakhasba \\n\\nhttps://t.co/9wo0rCnguI   \n",
              "8                                                                                                                                                                                   ప్రి వెడ్డింగ్ ఫోటో షూట్ ఆట జర జాగ్రత్త కింద పడేరు..😂😂 #funny https://t.co/sEE2HpgWyf   \n",
              "9                                                                                                                                                                   ఇలా పేరు మారడం, స్టోరీ రిపీట్..\\n\\nబురద పందులకు పన్నీరు చల్లడం, మనం ముక్కు మూసుకోవడం..అవసరమా?\\n\\n#Fun   \n",
              "\n",
              "          Username Humour  \n",
              "0  realindiaherald      0  \n",
              "1          bar_go_      1  \n",
              "2  realindiaherald      0  \n",
              "3      dishatelugu      n  \n",
              "4  realindiaherald      0  \n",
              "5    Ramya47618518      n  \n",
              "6       LeNonymous      1  \n",
              "7  realindiaherald      0  \n",
              "8    Srinivas21396      1  \n",
              "9      Lakshmi4TDP      1  "
            ],
            "text/html": [
              "\n",
              "  <div id=\"df-e2b94054-727c-4bf1-8a7b-f1d41f5eff3b\">\n",
              "    <div class=\"colab-df-container\">\n",
              "      <div>\n",
              "<style scoped>\n",
              "    .dataframe tbody tr th:only-of-type {\n",
              "        vertical-align: middle;\n",
              "    }\n",
              "\n",
              "    .dataframe tbody tr th {\n",
              "        vertical-align: top;\n",
              "    }\n",
              "\n",
              "    .dataframe thead th {\n",
              "        text-align: right;\n",
              "    }\n",
              "</style>\n",
              "<table border=\"1\" class=\"dataframe\">\n",
              "  <thead>\n",
              "    <tr style=\"text-align: right;\">\n",
              "      <th></th>\n",
              "      <th>Random_drop_index</th>\n",
              "      <th>Datetime</th>\n",
              "      <th>Tweet Id</th>\n",
              "      <th>Text</th>\n",
              "      <th>Username</th>\n",
              "      <th>Humour</th>\n",
              "    </tr>\n",
              "  </thead>\n",
              "  <tbody>\n",
              "    <tr>\n",
              "      <th>0</th>\n",
              "      <td>0</td>\n",
              "      <td>2022-02-14 12:30:25+00:00</td>\n",
              "      <td>1.493201e+18</td>\n",
              "      <td>పని మనిషిగా చేశా.. సీనియర్ నటి ఎమోషనల్ కామెంట్స్..!!\\n\\nచిత్ర పరిశ్రమ అనే మాయా ప్రపంచంలో ప్రతి ఒకటి రంగుల హరివిల్లుల\\n\\n#krishnaveni #Alithosaradaga #Industries #Comedy\\n\\nhttps://t.co/YFJ115iFj8</td>\n",
              "      <td>realindiaherald</td>\n",
              "      <td>0</td>\n",
              "    </tr>\n",
              "    <tr>\n",
              "      <th>1</th>\n",
              "      <td>1</td>\n",
              "      <td>2022-02-13 16:52:54+00:00</td>\n",
              "      <td>1.492905e+18</td>\n",
              "      <td>కంగారు నీకు అనవసరంగా వస్తుంది ఏమో          నాకు రక్తంలో ఉంది రా bloody Tool.            #fun #sarada</td>\n",
              "      <td>bar_go_</td>\n",
              "      <td>1</td>\n",
              "    </tr>\n",
              "    <tr>\n",
              "      <th>2</th>\n",
              "      <td>2</td>\n",
              "      <td>2022-02-12 02:00:24+00:00</td>\n",
              "      <td>1.492318e+18</td>\n",
              "      <td>రివ్యూ: రెచ్చిపోతున్న డీజే టిల్లు..!!\\n\\nఇక ఈ రోజున డీజే టిల్లు సినిమా విడుదల కాగా.. ప్రేక్షకులు మంచి రెస్పాన్స్ లభిస్తున్నట్లుగా సమాచారం. మరొక సారి తన ఎనర్జీత\\n\\n#nehashetty #siddhu #Comedy #Audience\\n\\n@DuvvadaJagannadham \\n\\nhttps://t.co/CJ0LFjzELR</td>\n",
              "      <td>realindiaherald</td>\n",
              "      <td>0</td>\n",
              "    </tr>\n",
              "    <tr>\n",
              "      <th>3</th>\n",
              "      <td>3</td>\n",
              "      <td>2022-02-11 10:12:57+00:00</td>\n",
              "      <td>1.492079e+18</td>\n",
              "      <td>ఎయిర్‌టెల్ ఇంటర్నెట్ డౌన్... ఫన్నీ మీమ్‌లతో పిచ్చెక్కిచ్చిన నెటిజ‌న్లు! \\n#InternetDown #Airtel #Funny #memes \\nhttps://t.co/e3sxZdzlCT</td>\n",
              "      <td>dishatelugu</td>\n",
              "      <td>n</td>\n",
              "    </tr>\n",
              "    <tr>\n",
              "      <th>4</th>\n",
              "      <td>4</td>\n",
              "      <td>2022-02-09 12:57:09+00:00</td>\n",
              "      <td>1.491396e+18</td>\n",
              "      <td>రవితేజ ఫ్యాన్స్ కి బిగ్ షాక్..?\\n\\nటాలీవుడ్ మాస్ మహారాజా రవితేజ తాజాగా నటించిన చిత్రం కిలాడి. రమేష్ వర్మ దర్శకత్వంలో హై వోల్టేజ్ యాక్షన్ డ్రామాగా తెరకెక్కుతు\\n\\n#prasad #choudaryactor #raviteja #Comedy\\n\\n@JiivaOfficial @RaviTeja_offl \\n\\nhttps://t.co/iofIaw6z36</td>\n",
              "      <td>realindiaherald</td>\n",
              "      <td>0</td>\n",
              "    </tr>\n",
              "    <tr>\n",
              "      <th>5</th>\n",
              "      <td>5</td>\n",
              "      <td>2022-02-09 04:42:09+00:00</td>\n",
              "      <td>1.491271e+18</td>\n",
              "      <td>ఎందయ్య....\\n\\n          ఈ #తమాషా......\\n\\n                   మై #హోం..... 😂😂 https://t.co/NUhq8v7EDd</td>\n",
              "      <td>Ramya47618518</td>\n",
              "      <td>n</td>\n",
              "    </tr>\n",
              "    <tr>\n",
              "      <th>6</th>\n",
              "      <td>6</td>\n",
              "      <td>2022-02-08 07:43:33+00:00</td>\n",
              "      <td>1.490954e+18</td>\n",
              "      <td>బ్రహ్మీ తెలుగూఫ్ కి పులిహోర తినాలనిపించింది. వాళ్ళావిడని పిలిచాడు...\\n\\n\"కల్పనా?\"\\n\\n\"కలిపేయండి\" అటు నుంచీ సమాధానం వచ్చింది. మనసు గ్రహిస్తూ\\n\\n#Joke #humour #brahmi #Telugoofs #Pulihora</td>\n",
              "      <td>LeNonymous</td>\n",
              "      <td>1</td>\n",
              "    </tr>\n",
              "    <tr>\n",
              "      <th>7</th>\n",
              "      <td>7</td>\n",
              "      <td>2022-02-08 01:16:15+00:00</td>\n",
              "      <td>1.490857e+18</td>\n",
              "      <td>దేవుడా: యాంకర్ వర్షిణి రాత్రి అయితే చాలు అవే సెర్చ్ చేస్తుందా.?\\n\\nయాంకర్ వర్షిణి అందరికి సుపరిచతమైన వ్యక్తి. ఆమె బుల్లితెరపై పాలు షోలు\\n\\n#anasuyabharadwaj #Anasuya #Raccha #Comedy\\n\\n@anusuyakhasba \\n\\nhttps://t.co/9wo0rCnguI</td>\n",
              "      <td>realindiaherald</td>\n",
              "      <td>0</td>\n",
              "    </tr>\n",
              "    <tr>\n",
              "      <th>8</th>\n",
              "      <td>8</td>\n",
              "      <td>2022-02-06 01:56:22+00:00</td>\n",
              "      <td>1.490142e+18</td>\n",
              "      <td>ప్రి వెడ్డింగ్ ఫోటో షూట్ ఆట జర జాగ్రత్త కింద పడేరు..😂😂 #funny https://t.co/sEE2HpgWyf</td>\n",
              "      <td>Srinivas21396</td>\n",
              "      <td>1</td>\n",
              "    </tr>\n",
              "    <tr>\n",
              "      <th>9</th>\n",
              "      <td>9</td>\n",
              "      <td>2022-02-05 19:29:12+00:00</td>\n",
              "      <td>1.490045e+18</td>\n",
              "      <td>ఇలా పేరు మారడం, స్టోరీ రిపీట్..\\n\\nబురద పందులకు పన్నీరు చల్లడం, మనం ముక్కు మూసుకోవడం..అవసరమా?\\n\\n#Fun</td>\n",
              "      <td>Lakshmi4TDP</td>\n",
              "      <td>1</td>\n",
              "    </tr>\n",
              "  </tbody>\n",
              "</table>\n",
              "</div>\n",
              "      <button class=\"colab-df-convert\" onclick=\"convertToInteractive('df-e2b94054-727c-4bf1-8a7b-f1d41f5eff3b')\"\n",
              "              title=\"Convert this dataframe to an interactive table.\"\n",
              "              style=\"display:none;\">\n",
              "        \n",
              "  <svg xmlns=\"http://www.w3.org/2000/svg\" height=\"24px\"viewBox=\"0 0 24 24\"\n",
              "       width=\"24px\">\n",
              "    <path d=\"M0 0h24v24H0V0z\" fill=\"none\"/>\n",
              "    <path d=\"M18.56 5.44l.94 2.06.94-2.06 2.06-.94-2.06-.94-.94-2.06-.94 2.06-2.06.94zm-11 1L8.5 8.5l.94-2.06 2.06-.94-2.06-.94L8.5 2.5l-.94 2.06-2.06.94zm10 10l.94 2.06.94-2.06 2.06-.94-2.06-.94-.94-2.06-.94 2.06-2.06.94z\"/><path d=\"M17.41 7.96l-1.37-1.37c-.4-.4-.92-.59-1.43-.59-.52 0-1.04.2-1.43.59L10.3 9.45l-7.72 7.72c-.78.78-.78 2.05 0 2.83L4 21.41c.39.39.9.59 1.41.59.51 0 1.02-.2 1.41-.59l7.78-7.78 2.81-2.81c.8-.78.8-2.07 0-2.86zM5.41 20L4 18.59l7.72-7.72 1.47 1.35L5.41 20z\"/>\n",
              "  </svg>\n",
              "      </button>\n",
              "      \n",
              "  <style>\n",
              "    .colab-df-container {\n",
              "      display:flex;\n",
              "      flex-wrap:wrap;\n",
              "      gap: 12px;\n",
              "    }\n",
              "\n",
              "    .colab-df-convert {\n",
              "      background-color: #E8F0FE;\n",
              "      border: none;\n",
              "      border-radius: 50%;\n",
              "      cursor: pointer;\n",
              "      display: none;\n",
              "      fill: #1967D2;\n",
              "      height: 32px;\n",
              "      padding: 0 0 0 0;\n",
              "      width: 32px;\n",
              "    }\n",
              "\n",
              "    .colab-df-convert:hover {\n",
              "      background-color: #E2EBFA;\n",
              "      box-shadow: 0px 1px 2px rgba(60, 64, 67, 0.3), 0px 1px 3px 1px rgba(60, 64, 67, 0.15);\n",
              "      fill: #174EA6;\n",
              "    }\n",
              "\n",
              "    [theme=dark] .colab-df-convert {\n",
              "      background-color: #3B4455;\n",
              "      fill: #D2E3FC;\n",
              "    }\n",
              "\n",
              "    [theme=dark] .colab-df-convert:hover {\n",
              "      background-color: #434B5C;\n",
              "      box-shadow: 0px 1px 3px 1px rgba(0, 0, 0, 0.15);\n",
              "      filter: drop-shadow(0px 1px 2px rgba(0, 0, 0, 0.3));\n",
              "      fill: #FFFFFF;\n",
              "    }\n",
              "  </style>\n",
              "\n",
              "      <script>\n",
              "        const buttonEl =\n",
              "          document.querySelector('#df-e2b94054-727c-4bf1-8a7b-f1d41f5eff3b button.colab-df-convert');\n",
              "        buttonEl.style.display =\n",
              "          google.colab.kernel.accessAllowed ? 'block' : 'none';\n",
              "\n",
              "        async function convertToInteractive(key) {\n",
              "          const element = document.querySelector('#df-e2b94054-727c-4bf1-8a7b-f1d41f5eff3b');\n",
              "          const dataTable =\n",
              "            await google.colab.kernel.invokeFunction('convertToInteractive',\n",
              "                                                     [key], {});\n",
              "          if (!dataTable) return;\n",
              "\n",
              "          const docLinkHtml = 'Like what you see? Visit the ' +\n",
              "            '<a target=\"_blank\" href=https://colab.research.google.com/notebooks/data_table.ipynb>data table notebook</a>'\n",
              "            + ' to learn more about interactive tables.';\n",
              "          element.innerHTML = '';\n",
              "          dataTable['output_type'] = 'display_data';\n",
              "          await google.colab.output.renderOutput(dataTable, element);\n",
              "          const docLink = document.createElement('div');\n",
              "          docLink.innerHTML = docLinkHtml;\n",
              "          element.appendChild(docLink);\n",
              "        }\n",
              "      </script>\n",
              "    </div>\n",
              "  </div>\n",
              "  "
            ]
          },
          "metadata": {},
          "execution_count": 5
        }
      ]
    },
    {
      "cell_type": "code",
      "source": [
        "# df.drop(['Unnamed: 0'])\n",
        "# df.columns\n",
        "print(df.shape)\n",
        "df.head()\n"
      ],
      "metadata": {
        "id": "oNRLsQ8MALNt",
        "colab": {
          "base_uri": "https://localhost:8080/",
          "height": 354
        },
        "outputId": "452aa2f1-b83d-439d-8da6-e368f66d9685"
      },
      "execution_count": null,
      "outputs": [
        {
          "output_type": "stream",
          "name": "stdout",
          "text": [
            "(2649, 6)\n"
          ]
        },
        {
          "output_type": "execute_result",
          "data": {
            "text/html": [
              "\n",
              "  <div id=\"df-40605664-5660-4a42-b617-4bbbd387b1b6\">\n",
              "    <div class=\"colab-df-container\">\n",
              "      <div>\n",
              "<style scoped>\n",
              "    .dataframe tbody tr th:only-of-type {\n",
              "        vertical-align: middle;\n",
              "    }\n",
              "\n",
              "    .dataframe tbody tr th {\n",
              "        vertical-align: top;\n",
              "    }\n",
              "\n",
              "    .dataframe thead th {\n",
              "        text-align: right;\n",
              "    }\n",
              "</style>\n",
              "<table border=\"1\" class=\"dataframe\">\n",
              "  <thead>\n",
              "    <tr style=\"text-align: right;\">\n",
              "      <th></th>\n",
              "      <th>Random_drop_index</th>\n",
              "      <th>Datetime</th>\n",
              "      <th>Tweet Id</th>\n",
              "      <th>Text</th>\n",
              "      <th>Username</th>\n",
              "      <th>Humour</th>\n",
              "    </tr>\n",
              "  </thead>\n",
              "  <tbody>\n",
              "    <tr>\n",
              "      <th>0</th>\n",
              "      <td>0</td>\n",
              "      <td>2022-02-14 12:30:25+00:00</td>\n",
              "      <td>1.493201e+18</td>\n",
              "      <td>పని మనిషిగా చేశా.. సీనియర్ నటి ఎమోషనల్ కామెంట్స్..!!\\n\\nచిత్ర పరిశ్రమ అనే మాయా ప్రపంచంలో ప్రతి ఒకటి రంగుల హరివిల్లుల\\n\\n#krishnaveni #Alithosaradaga #Industries #Comedy\\n\\nhttps://t.co/YFJ115iFj8</td>\n",
              "      <td>realindiaherald</td>\n",
              "      <td>0</td>\n",
              "    </tr>\n",
              "    <tr>\n",
              "      <th>1</th>\n",
              "      <td>1</td>\n",
              "      <td>2022-02-13 16:52:54+00:00</td>\n",
              "      <td>1.492905e+18</td>\n",
              "      <td>కంగారు నీకు అనవసరంగా వస్తుంది ఏమో          నాకు రక్తంలో ఉంది రా bloody Tool.            #fun #sarada</td>\n",
              "      <td>bar_go_</td>\n",
              "      <td>1</td>\n",
              "    </tr>\n",
              "    <tr>\n",
              "      <th>2</th>\n",
              "      <td>2</td>\n",
              "      <td>2022-02-12 02:00:24+00:00</td>\n",
              "      <td>1.492318e+18</td>\n",
              "      <td>రివ్యూ: రెచ్చిపోతున్న డీజే టిల్లు..!!\\n\\nఇక ఈ రోజున డీజే టిల్లు సినిమా విడుదల కాగా.. ప్రేక్షకులు మంచి రెస్పాన్స్ లభిస్తున్నట్లుగా సమాచారం. మరొక సారి తన ఎనర్జీత\\n\\n#nehashetty #siddhu #Comedy #Audience\\n\\n@DuvvadaJagannadham \\n\\nhttps://t.co/CJ0LFjzELR</td>\n",
              "      <td>realindiaherald</td>\n",
              "      <td>0</td>\n",
              "    </tr>\n",
              "    <tr>\n",
              "      <th>3</th>\n",
              "      <td>3</td>\n",
              "      <td>2022-02-11 10:12:57+00:00</td>\n",
              "      <td>1.492079e+18</td>\n",
              "      <td>ఎయిర్‌టెల్ ఇంటర్నెట్ డౌన్... ఫన్నీ మీమ్‌లతో పిచ్చెక్కిచ్చిన నెటిజ‌న్లు! \\n#InternetDown #Airtel #Funny #memes \\nhttps://t.co/e3sxZdzlCT</td>\n",
              "      <td>dishatelugu</td>\n",
              "      <td>n</td>\n",
              "    </tr>\n",
              "    <tr>\n",
              "      <th>4</th>\n",
              "      <td>4</td>\n",
              "      <td>2022-02-09 12:57:09+00:00</td>\n",
              "      <td>1.491396e+18</td>\n",
              "      <td>రవితేజ ఫ్యాన్స్ కి బిగ్ షాక్..?\\n\\nటాలీవుడ్ మాస్ మహారాజా రవితేజ తాజాగా నటించిన చిత్రం కిలాడి. రమేష్ వర్మ దర్శకత్వంలో హై వోల్టేజ్ యాక్షన్ డ్రామాగా తెరకెక్కుతు\\n\\n#prasad #choudaryactor #raviteja #Comedy\\n\\n@JiivaOfficial @RaviTeja_offl \\n\\nhttps://t.co/iofIaw6z36</td>\n",
              "      <td>realindiaherald</td>\n",
              "      <td>0</td>\n",
              "    </tr>\n",
              "  </tbody>\n",
              "</table>\n",
              "</div>\n",
              "      <button class=\"colab-df-convert\" onclick=\"convertToInteractive('df-40605664-5660-4a42-b617-4bbbd387b1b6')\"\n",
              "              title=\"Convert this dataframe to an interactive table.\"\n",
              "              style=\"display:none;\">\n",
              "        \n",
              "  <svg xmlns=\"http://www.w3.org/2000/svg\" height=\"24px\"viewBox=\"0 0 24 24\"\n",
              "       width=\"24px\">\n",
              "    <path d=\"M0 0h24v24H0V0z\" fill=\"none\"/>\n",
              "    <path d=\"M18.56 5.44l.94 2.06.94-2.06 2.06-.94-2.06-.94-.94-2.06-.94 2.06-2.06.94zm-11 1L8.5 8.5l.94-2.06 2.06-.94-2.06-.94L8.5 2.5l-.94 2.06-2.06.94zm10 10l.94 2.06.94-2.06 2.06-.94-2.06-.94-.94-2.06-.94 2.06-2.06.94z\"/><path d=\"M17.41 7.96l-1.37-1.37c-.4-.4-.92-.59-1.43-.59-.52 0-1.04.2-1.43.59L10.3 9.45l-7.72 7.72c-.78.78-.78 2.05 0 2.83L4 21.41c.39.39.9.59 1.41.59.51 0 1.02-.2 1.41-.59l7.78-7.78 2.81-2.81c.8-.78.8-2.07 0-2.86zM5.41 20L4 18.59l7.72-7.72 1.47 1.35L5.41 20z\"/>\n",
              "  </svg>\n",
              "      </button>\n",
              "      \n",
              "  <style>\n",
              "    .colab-df-container {\n",
              "      display:flex;\n",
              "      flex-wrap:wrap;\n",
              "      gap: 12px;\n",
              "    }\n",
              "\n",
              "    .colab-df-convert {\n",
              "      background-color: #E8F0FE;\n",
              "      border: none;\n",
              "      border-radius: 50%;\n",
              "      cursor: pointer;\n",
              "      display: none;\n",
              "      fill: #1967D2;\n",
              "      height: 32px;\n",
              "      padding: 0 0 0 0;\n",
              "      width: 32px;\n",
              "    }\n",
              "\n",
              "    .colab-df-convert:hover {\n",
              "      background-color: #E2EBFA;\n",
              "      box-shadow: 0px 1px 2px rgba(60, 64, 67, 0.3), 0px 1px 3px 1px rgba(60, 64, 67, 0.15);\n",
              "      fill: #174EA6;\n",
              "    }\n",
              "\n",
              "    [theme=dark] .colab-df-convert {\n",
              "      background-color: #3B4455;\n",
              "      fill: #D2E3FC;\n",
              "    }\n",
              "\n",
              "    [theme=dark] .colab-df-convert:hover {\n",
              "      background-color: #434B5C;\n",
              "      box-shadow: 0px 1px 3px 1px rgba(0, 0, 0, 0.15);\n",
              "      filter: drop-shadow(0px 1px 2px rgba(0, 0, 0, 0.3));\n",
              "      fill: #FFFFFF;\n",
              "    }\n",
              "  </style>\n",
              "\n",
              "      <script>\n",
              "        const buttonEl =\n",
              "          document.querySelector('#df-40605664-5660-4a42-b617-4bbbd387b1b6 button.colab-df-convert');\n",
              "        buttonEl.style.display =\n",
              "          google.colab.kernel.accessAllowed ? 'block' : 'none';\n",
              "\n",
              "        async function convertToInteractive(key) {\n",
              "          const element = document.querySelector('#df-40605664-5660-4a42-b617-4bbbd387b1b6');\n",
              "          const dataTable =\n",
              "            await google.colab.kernel.invokeFunction('convertToInteractive',\n",
              "                                                     [key], {});\n",
              "          if (!dataTable) return;\n",
              "\n",
              "          const docLinkHtml = 'Like what you see? Visit the ' +\n",
              "            '<a target=\"_blank\" href=https://colab.research.google.com/notebooks/data_table.ipynb>data table notebook</a>'\n",
              "            + ' to learn more about interactive tables.';\n",
              "          element.innerHTML = '';\n",
              "          dataTable['output_type'] = 'display_data';\n",
              "          await google.colab.output.renderOutput(dataTable, element);\n",
              "          const docLink = document.createElement('div');\n",
              "          docLink.innerHTML = docLinkHtml;\n",
              "          element.appendChild(docLink);\n",
              "        }\n",
              "      </script>\n",
              "    </div>\n",
              "  </div>\n",
              "  "
            ],
            "text/plain": [
              "   Random_drop_index                   Datetime  ...         Username Humour\n",
              "0                  0  2022-02-14 12:30:25+00:00  ...  realindiaherald      0\n",
              "1                  1  2022-02-13 16:52:54+00:00  ...          bar_go_      1\n",
              "2                  2  2022-02-12 02:00:24+00:00  ...  realindiaherald      0\n",
              "3                  3  2022-02-11 10:12:57+00:00  ...      dishatelugu      n\n",
              "4                  4  2022-02-09 12:57:09+00:00  ...  realindiaherald      0\n",
              "\n",
              "[5 rows x 6 columns]"
            ]
          },
          "metadata": {},
          "execution_count": 54
        }
      ]
    },
    {
      "cell_type": "code",
      "source": [
        "import re\n",
        "def processText(text):\n",
        "  text = text.lower()\n",
        "  text = re.sub('((www.[^s]+)|(https?://[^s]+))','',text)\n",
        "  text = re.sub('@[^s]+','',text)\n",
        "  text = re.sub('[s]+', ' ', text)\n",
        "  text = re.sub(r'#([^s]+)', r'1', text)\n",
        "  text = re.sub(r'[.!:?-\\'\\\"\\\\\\/]', r'', text)\n",
        "  text = text.strip('\\'\\\"')\n",
        "  return text \n",
        "\n",
        "\n",
        "def processTextme(text):\n",
        "  tokens = text.split()\n",
        "  redlist = {}\n",
        "  \n",
        "  emoji_pattern = re.compile(\"[\"\n",
        "          u\"\\U0001F600-\\U0001F64F\"  # emoticons\n",
        "          u\"\\U0001F300-\\U0001F5FF\"  # symbols & pictographs\n",
        "          u\"\\U0001F680-\\U0001F6FF\"  # transport & map symbols\n",
        "          u\"\\U0001F1E0-\\U0001F1FF\"  # flags (iOS)\n",
        "                            \"]+\", flags=re.UNICODE)\n",
        "\n",
        "  for i in range(len(tokens)):\n",
        "    # remove http\n",
        "    if tokens[i][0:5]=='https':\n",
        "      redlist[i] = 1\n",
        "    # hash\n",
        "    if tokens[i][0] == '#':\n",
        "      redlist[i] = 1\n",
        "    # emoticon\n",
        "    \n",
        "\n",
        "    text = tokens[i]\n",
        "    flag_len = len( tokens[i] )\n",
        "    tokens[i] = emoji_pattern.sub(r'', text) \n",
        "    if flag_len!=len(tokens[i]):\n",
        "      redlist[i] = 1\n",
        "      # print(\"emoji!\", i)\n",
        "  #concatenate\n",
        "  clean_tweet = \"\"\n",
        "  for i in range(len(tokens)):\n",
        "    if i in redlist:\n",
        "      continue\n",
        "    clean_tweet = clean_tweet + tokens[i] + \" \"\n",
        " \n",
        "  # print(tokens)\n",
        "  # print(clean_tweet)\n",
        "  # print(redlist)\n",
        "\n",
        "  return clean_tweet\n",
        "\n",
        "processTextme(df[\"Text\"].iloc[5]) "
      ],
      "metadata": {
        "id": "IgYpuyMYD_8e",
        "colab": {
          "base_uri": "https://localhost:8080/",
          "height": 35
        },
        "outputId": "f53f97b7-6557-4895-ad90-1ec8871de36b"
      },
      "execution_count": 6,
      "outputs": [
        {
          "output_type": "execute_result",
          "data": {
            "text/plain": [
              "'ఎందయ్య.... ఈ మై '"
            ],
            "application/vnd.google.colaboratory.intrinsic+json": {
              "type": "string"
            }
          },
          "metadata": {},
          "execution_count": 6
        }
      ]
    },
    {
      "cell_type": "code",
      "source": [
        "df[\"Text\"].iloc[5] "
      ],
      "metadata": {
        "colab": {
          "base_uri": "https://localhost:8080/",
          "height": 35
        },
        "id": "zJJ-JLo_vcrC",
        "outputId": "cfecb477-4894-466a-ae2b-72662776d54b"
      },
      "execution_count": 7,
      "outputs": [
        {
          "output_type": "execute_result",
          "data": {
            "text/plain": [
              "'ఎందయ్య....\\n\\n          ఈ #తమాషా......\\n\\n                   మై #హోం..... 😂😂 https://t.co/NUhq8v7EDd'"
            ],
            "application/vnd.google.colaboratory.intrinsic+json": {
              "type": "string"
            }
          },
          "metadata": {},
          "execution_count": 7
        }
      ]
    },
    {
      "cell_type": "code",
      "source": [
        "df['Text'] = df['Text'].apply(lambda row: processTextme(row)) "
      ],
      "metadata": {
        "id": "hlIsoraZvocq"
      },
      "execution_count": 8,
      "outputs": []
    },
    {
      "cell_type": "code",
      "source": [
        ""
      ],
      "metadata": {
        "colab": {
          "base_uri": "https://localhost:8080/",
          "height": 35
        },
        "id": "issXxc8BwSPr",
        "outputId": "7a3d85ab-654a-44d2-c8f5-c675585a5603"
      },
      "execution_count": null,
      "outputs": [
        {
          "output_type": "execute_result",
          "data": {
            "application/vnd.google.colaboratory.intrinsic+json": {
              "type": "string"
            },
            "text/plain": [
              "'ఎందయ్య.... ఈ మై '"
            ]
          },
          "metadata": {},
          "execution_count": 60
        }
      ]
    },
    {
      "cell_type": "code",
      "source": [
        "# filtered out 150\n",
        "                    #humorous       #non humorous\n",
        "# tweets          \n",
        "# no of words\n",
        "\n",
        "HW=0\n",
        "NHW=0\n",
        "OW=0\n",
        "print(df.shape[0])\n",
        "TW = 0\n",
        "TH=0\n",
        "TNH=0\n",
        "for i in range(df.shape[0]):\n",
        "  x = len( df['Text'].iloc[i].split() )\n",
        "  if df['Humour'].iloc[i] == '1':\n",
        "    HW += x\n",
        "    TH+=1\n",
        "  elif df['Humour'].iloc[i] == '0':\n",
        "    NHW += x\n",
        "    TNH+=1\n",
        "  else:\n",
        "    OW += x\n",
        "    TW += 1\n"
      ],
      "metadata": {
        "id": "RLdHj-llHk5p",
        "colab": {
          "base_uri": "https://localhost:8080/"
        },
        "outputId": "b787cd89-df03-4364-f663-5e9422d8e03f"
      },
      "execution_count": 9,
      "outputs": [
        {
          "output_type": "stream",
          "name": "stdout",
          "text": [
            "2649\n"
          ]
        }
      ]
    },
    {
      "cell_type": "code",
      "source": [
        ""
      ],
      "metadata": {
        "id": "Po7iBTWVsTOa"
      },
      "execution_count": null,
      "outputs": []
    },
    {
      "cell_type": "code",
      "source": [
        ""
      ],
      "metadata": {
        "id": "DPmSdbawHHFt"
      },
      "execution_count": null,
      "outputs": []
    },
    {
      "cell_type": "markdown",
      "source": [
        ""
      ],
      "metadata": {
        "id": "-V__gJvSHFNb"
      }
    },
    {
      "cell_type": "code",
      "source": [
        ""
      ],
      "metadata": {
        "id": "cypFwtiFGApa"
      },
      "execution_count": null,
      "outputs": []
    },
    {
      "cell_type": "code",
      "source": [
        "from typing import Text\n",
        "#Removing \"\\n\"\n",
        "#for i in range(len(df)):\n",
        "    #df['Text'][i] =  [s.replace(\"\\n\", \"\") for s in df['Text'][i]]\n",
        "\n",
        "df['Text'] = df['Text'].apply(lambda row: row.replace(\"\\n\",\"\")) "
      ],
      "metadata": {
        "id": "fMfKnOPNKnxf"
      },
      "execution_count": 10,
      "outputs": []
    },
    {
      "cell_type": "code",
      "source": [
        ""
      ],
      "metadata": {
        "id": "7RZR9BtFLp57"
      },
      "execution_count": null,
      "outputs": []
    },
    {
      "cell_type": "code",
      "source": [
        ""
      ],
      "metadata": {
        "id": "L6HhRUHrM7x5"
      },
      "execution_count": null,
      "outputs": []
    },
    {
      "cell_type": "code",
      "source": [
        "df.to_csv(\"./data.csv\")"
      ],
      "metadata": {
        "id": "LIHoza4g2dcp"
      },
      "execution_count": 11,
      "outputs": []
    },
    {
      "cell_type": "markdown",
      "source": [
        "**Data**"
      ],
      "metadata": {
        "id": "tyfhRwr6AYzU"
      }
    },
    {
      "cell_type": "code",
      "source": [
        "df.groupby(['Humour']).count()"
      ],
      "metadata": {
        "colab": {
          "base_uri": "https://localhost:8080/",
          "height": 238
        },
        "id": "mVWNVKGK74jQ",
        "outputId": "8e627681-b996-4e15-bce2-f1aa707b09f4"
      },
      "execution_count": 12,
      "outputs": [
        {
          "output_type": "execute_result",
          "data": {
            "text/plain": [
              "        Random_drop_index  Datetime  Tweet Id  Text  Username\n",
              "Humour                                                       \n",
              "0                    1918      1918      1918  1918      1918\n",
              "1                     458       458       458   458       458\n",
              "N                      88        88        88    88        88\n",
              "n                      61        61        61    61        61\n",
              "o                       1         1         1     1         1"
            ],
            "text/html": [
              "\n",
              "  <div id=\"df-45649dcb-2d51-4c1f-875a-3a689ab72098\">\n",
              "    <div class=\"colab-df-container\">\n",
              "      <div>\n",
              "<style scoped>\n",
              "    .dataframe tbody tr th:only-of-type {\n",
              "        vertical-align: middle;\n",
              "    }\n",
              "\n",
              "    .dataframe tbody tr th {\n",
              "        vertical-align: top;\n",
              "    }\n",
              "\n",
              "    .dataframe thead th {\n",
              "        text-align: right;\n",
              "    }\n",
              "</style>\n",
              "<table border=\"1\" class=\"dataframe\">\n",
              "  <thead>\n",
              "    <tr style=\"text-align: right;\">\n",
              "      <th></th>\n",
              "      <th>Random_drop_index</th>\n",
              "      <th>Datetime</th>\n",
              "      <th>Tweet Id</th>\n",
              "      <th>Text</th>\n",
              "      <th>Username</th>\n",
              "    </tr>\n",
              "    <tr>\n",
              "      <th>Humour</th>\n",
              "      <th></th>\n",
              "      <th></th>\n",
              "      <th></th>\n",
              "      <th></th>\n",
              "      <th></th>\n",
              "    </tr>\n",
              "  </thead>\n",
              "  <tbody>\n",
              "    <tr>\n",
              "      <th>0</th>\n",
              "      <td>1918</td>\n",
              "      <td>1918</td>\n",
              "      <td>1918</td>\n",
              "      <td>1918</td>\n",
              "      <td>1918</td>\n",
              "    </tr>\n",
              "    <tr>\n",
              "      <th>1</th>\n",
              "      <td>458</td>\n",
              "      <td>458</td>\n",
              "      <td>458</td>\n",
              "      <td>458</td>\n",
              "      <td>458</td>\n",
              "    </tr>\n",
              "    <tr>\n",
              "      <th>N</th>\n",
              "      <td>88</td>\n",
              "      <td>88</td>\n",
              "      <td>88</td>\n",
              "      <td>88</td>\n",
              "      <td>88</td>\n",
              "    </tr>\n",
              "    <tr>\n",
              "      <th>n</th>\n",
              "      <td>61</td>\n",
              "      <td>61</td>\n",
              "      <td>61</td>\n",
              "      <td>61</td>\n",
              "      <td>61</td>\n",
              "    </tr>\n",
              "    <tr>\n",
              "      <th>o</th>\n",
              "      <td>1</td>\n",
              "      <td>1</td>\n",
              "      <td>1</td>\n",
              "      <td>1</td>\n",
              "      <td>1</td>\n",
              "    </tr>\n",
              "  </tbody>\n",
              "</table>\n",
              "</div>\n",
              "      <button class=\"colab-df-convert\" onclick=\"convertToInteractive('df-45649dcb-2d51-4c1f-875a-3a689ab72098')\"\n",
              "              title=\"Convert this dataframe to an interactive table.\"\n",
              "              style=\"display:none;\">\n",
              "        \n",
              "  <svg xmlns=\"http://www.w3.org/2000/svg\" height=\"24px\"viewBox=\"0 0 24 24\"\n",
              "       width=\"24px\">\n",
              "    <path d=\"M0 0h24v24H0V0z\" fill=\"none\"/>\n",
              "    <path d=\"M18.56 5.44l.94 2.06.94-2.06 2.06-.94-2.06-.94-.94-2.06-.94 2.06-2.06.94zm-11 1L8.5 8.5l.94-2.06 2.06-.94-2.06-.94L8.5 2.5l-.94 2.06-2.06.94zm10 10l.94 2.06.94-2.06 2.06-.94-2.06-.94-.94-2.06-.94 2.06-2.06.94z\"/><path d=\"M17.41 7.96l-1.37-1.37c-.4-.4-.92-.59-1.43-.59-.52 0-1.04.2-1.43.59L10.3 9.45l-7.72 7.72c-.78.78-.78 2.05 0 2.83L4 21.41c.39.39.9.59 1.41.59.51 0 1.02-.2 1.41-.59l7.78-7.78 2.81-2.81c.8-.78.8-2.07 0-2.86zM5.41 20L4 18.59l7.72-7.72 1.47 1.35L5.41 20z\"/>\n",
              "  </svg>\n",
              "      </button>\n",
              "      \n",
              "  <style>\n",
              "    .colab-df-container {\n",
              "      display:flex;\n",
              "      flex-wrap:wrap;\n",
              "      gap: 12px;\n",
              "    }\n",
              "\n",
              "    .colab-df-convert {\n",
              "      background-color: #E8F0FE;\n",
              "      border: none;\n",
              "      border-radius: 50%;\n",
              "      cursor: pointer;\n",
              "      display: none;\n",
              "      fill: #1967D2;\n",
              "      height: 32px;\n",
              "      padding: 0 0 0 0;\n",
              "      width: 32px;\n",
              "    }\n",
              "\n",
              "    .colab-df-convert:hover {\n",
              "      background-color: #E2EBFA;\n",
              "      box-shadow: 0px 1px 2px rgba(60, 64, 67, 0.3), 0px 1px 3px 1px rgba(60, 64, 67, 0.15);\n",
              "      fill: #174EA6;\n",
              "    }\n",
              "\n",
              "    [theme=dark] .colab-df-convert {\n",
              "      background-color: #3B4455;\n",
              "      fill: #D2E3FC;\n",
              "    }\n",
              "\n",
              "    [theme=dark] .colab-df-convert:hover {\n",
              "      background-color: #434B5C;\n",
              "      box-shadow: 0px 1px 3px 1px rgba(0, 0, 0, 0.15);\n",
              "      filter: drop-shadow(0px 1px 2px rgba(0, 0, 0, 0.3));\n",
              "      fill: #FFFFFF;\n",
              "    }\n",
              "  </style>\n",
              "\n",
              "      <script>\n",
              "        const buttonEl =\n",
              "          document.querySelector('#df-45649dcb-2d51-4c1f-875a-3a689ab72098 button.colab-df-convert');\n",
              "        buttonEl.style.display =\n",
              "          google.colab.kernel.accessAllowed ? 'block' : 'none';\n",
              "\n",
              "        async function convertToInteractive(key) {\n",
              "          const element = document.querySelector('#df-45649dcb-2d51-4c1f-875a-3a689ab72098');\n",
              "          const dataTable =\n",
              "            await google.colab.kernel.invokeFunction('convertToInteractive',\n",
              "                                                     [key], {});\n",
              "          if (!dataTable) return;\n",
              "\n",
              "          const docLinkHtml = 'Like what you see? Visit the ' +\n",
              "            '<a target=\"_blank\" href=https://colab.research.google.com/notebooks/data_table.ipynb>data table notebook</a>'\n",
              "            + ' to learn more about interactive tables.';\n",
              "          element.innerHTML = '';\n",
              "          dataTable['output_type'] = 'display_data';\n",
              "          await google.colab.output.renderOutput(dataTable, element);\n",
              "          const docLink = document.createElement('div');\n",
              "          docLink.innerHTML = docLinkHtml;\n",
              "          element.appendChild(docLink);\n",
              "        }\n",
              "      </script>\n",
              "    </div>\n",
              "  </div>\n",
              "  "
            ]
          },
          "metadata": {},
          "execution_count": 12
        }
      ]
    },
    {
      "cell_type": "code",
      "source": [
        "len( df[df['Humour'] == '0'] )"
      ],
      "metadata": {
        "colab": {
          "base_uri": "https://localhost:8080/"
        },
        "id": "n7O1hbljA9Yb",
        "outputId": "9c45f9fe-557b-4e96-b9d9-7a11b021bf03"
      },
      "execution_count": 13,
      "outputs": [
        {
          "output_type": "execute_result",
          "data": {
            "text/plain": [
              "1918"
            ]
          },
          "metadata": {},
          "execution_count": 13
        }
      ]
    },
    {
      "cell_type": "code",
      "source": [
        "label0 = df[df['Humour'] == '0'].sample(n=len( df[df['Humour'] == '1'] ))"
      ],
      "metadata": {
        "id": "c2T7S_bVHZUF"
      },
      "execution_count": 14,
      "outputs": []
    },
    {
      "cell_type": "code",
      "source": [
        "label1 = df[df['Humour'] == '1']"
      ],
      "metadata": {
        "id": "lBHXsaPlAP0p"
      },
      "execution_count": 15,
      "outputs": []
    },
    {
      "cell_type": "code",
      "source": [
        "print(len(label0), len(label1))"
      ],
      "metadata": {
        "colab": {
          "base_uri": "https://localhost:8080/"
        },
        "id": "wfSd2xtsRN84",
        "outputId": "1ae810de-b694-476e-fed3-03f4755ce937"
      },
      "execution_count": 16,
      "outputs": [
        {
          "output_type": "stream",
          "name": "stdout",
          "text": [
            "458 458\n"
          ]
        }
      ]
    },
    {
      "cell_type": "code",
      "source": [
        "from sklearn.model_selection import train_test_split\n",
        "\n",
        "train0, test0 = train_test_split(label0, test_size=0.2)\n",
        "train1, test1 = train_test_split(label1, test_size=0.2)\n"
      ],
      "metadata": {
        "id": "sGNAV9d3IgE2"
      },
      "execution_count": 17,
      "outputs": []
    },
    {
      "cell_type": "code",
      "source": [
        "final = pd.concat([train0, train1], ignore_index=True)\n",
        "\n",
        "print(final.shape[0] )\n",
        "final.to_csv(\"./final_train.csv\")\n",
        "\n",
        "final = pd.concat([test0, test1], ignore_index=True)\n",
        "final.to_csv(\"./final_test.csv\")"
      ],
      "metadata": {
        "id": "1MfA9TiDHu0u",
        "colab": {
          "base_uri": "https://localhost:8080/"
        },
        "outputId": "f91c33fe-77f6-43bc-8eb7-0956a6d0e110"
      },
      "execution_count": 18,
      "outputs": [
        {
          "output_type": "stream",
          "name": "stdout",
          "text": [
            "732\n"
          ]
        }
      ]
    },
    {
      "cell_type": "code",
      "source": [
        "print(final.shape[0] )\n"
      ],
      "metadata": {
        "colab": {
          "base_uri": "https://localhost:8080/"
        },
        "id": "mnndtkJYOboF",
        "outputId": "3c1277b4-53f5-4d0c-826f-8592db6a6694"
      },
      "execution_count": 19,
      "outputs": [
        {
          "output_type": "stream",
          "name": "stdout",
          "text": [
            "184\n"
          ]
        }
      ]
    },
    {
      "cell_type": "markdown",
      "source": [
        "## Fine-tuning"
      ],
      "metadata": {
        "id": "rn8YyDWrsQsd"
      }
    },
    {
      "cell_type": "code",
      "source": [
        "pretrained_model =  \"distilbert-base-multilingual-cased\" # distilbert-base-multilingual-cased xlm-roberta-base \"bert-base-multilingual-cased\""
      ],
      "metadata": {
        "id": "zLLddQSYdzf2"
      },
      "execution_count": null,
      "outputs": []
    },
    {
      "cell_type": "code",
      "source": [
        "!pip install transformers"
      ],
      "metadata": {
        "id": "Z94ERBvLtQC_",
        "colab": {
          "base_uri": "https://localhost:8080/"
        },
        "outputId": "5ccf959b-644a-4906-bc40-7f36f36cb11b"
      },
      "execution_count": null,
      "outputs": [
        {
          "output_type": "stream",
          "name": "stdout",
          "text": [
            "Requirement already satisfied: transformers in /usr/local/lib/python3.7/dist-packages (4.16.2)\n",
            "Requirement already satisfied: huggingface-hub<1.0,>=0.1.0 in /usr/local/lib/python3.7/dist-packages (from transformers) (0.4.0)\n",
            "Requirement already satisfied: regex!=2019.12.17 in /usr/local/lib/python3.7/dist-packages (from transformers) (2019.12.20)\n",
            "Requirement already satisfied: numpy>=1.17 in /usr/local/lib/python3.7/dist-packages (from transformers) (1.21.5)\n",
            "Requirement already satisfied: tokenizers!=0.11.3,>=0.10.1 in /usr/local/lib/python3.7/dist-packages (from transformers) (0.11.5)\n",
            "Requirement already satisfied: filelock in /usr/local/lib/python3.7/dist-packages (from transformers) (3.6.0)\n",
            "Requirement already satisfied: importlib-metadata in /usr/local/lib/python3.7/dist-packages (from transformers) (4.11.1)\n",
            "Requirement already satisfied: requests in /usr/local/lib/python3.7/dist-packages (from transformers) (2.23.0)\n",
            "Requirement already satisfied: tqdm>=4.27 in /usr/local/lib/python3.7/dist-packages (from transformers) (4.62.3)\n",
            "Requirement already satisfied: packaging>=20.0 in /usr/local/lib/python3.7/dist-packages (from transformers) (21.3)\n",
            "Requirement already satisfied: pyyaml>=5.1 in /usr/local/lib/python3.7/dist-packages (from transformers) (6.0)\n",
            "Requirement already satisfied: sacremoses in /usr/local/lib/python3.7/dist-packages (from transformers) (0.0.47)\n",
            "Requirement already satisfied: typing-extensions>=3.7.4.3 in /usr/local/lib/python3.7/dist-packages (from huggingface-hub<1.0,>=0.1.0->transformers) (3.10.0.2)\n",
            "Requirement already satisfied: pyparsing!=3.0.5,>=2.0.2 in /usr/local/lib/python3.7/dist-packages (from packaging>=20.0->transformers) (3.0.7)\n",
            "Requirement already satisfied: zipp>=0.5 in /usr/local/lib/python3.7/dist-packages (from importlib-metadata->transformers) (3.7.0)\n",
            "Requirement already satisfied: certifi>=2017.4.17 in /usr/local/lib/python3.7/dist-packages (from requests->transformers) (2021.10.8)\n",
            "Requirement already satisfied: urllib3!=1.25.0,!=1.25.1,<1.26,>=1.21.1 in /usr/local/lib/python3.7/dist-packages (from requests->transformers) (1.24.3)\n",
            "Requirement already satisfied: chardet<4,>=3.0.2 in /usr/local/lib/python3.7/dist-packages (from requests->transformers) (3.0.4)\n",
            "Requirement already satisfied: idna<3,>=2.5 in /usr/local/lib/python3.7/dist-packages (from requests->transformers) (2.10)\n",
            "Requirement already satisfied: click in /usr/local/lib/python3.7/dist-packages (from sacremoses->transformers) (7.1.2)\n",
            "Requirement already satisfied: six in /usr/local/lib/python3.7/dist-packages (from sacremoses->transformers) (1.15.0)\n",
            "Requirement already satisfied: joblib in /usr/local/lib/python3.7/dist-packages (from sacremoses->transformers) (1.1.0)\n"
          ]
        }
      ]
    },
    {
      "cell_type": "code",
      "source": [
        "df_train, df_test = pd.read_csv(\"./final_train.csv\"), pd.read_csv(\"./final_test.csv\")"
      ],
      "metadata": {
        "id": "GCT5T3RntBdB"
      },
      "execution_count": null,
      "outputs": []
    },
    {
      "cell_type": "code",
      "source": [
        "import torch\n",
        "from torch.utils.data import Dataset"
      ],
      "metadata": {
        "id": "lT4BXANdv6Qh"
      },
      "execution_count": null,
      "outputs": []
    },
    {
      "cell_type": "code",
      "source": [
        "from transformers import AutoTokenizer\n",
        "\n",
        "class CustomImageDataset(Dataset):\n",
        "    def __init__(self, tuples):\n",
        "\n",
        "      self.tuples = tuples\n",
        "      self.tokenizer = AutoTokenizer.from_pretrained(pretrained_model)\n",
        "\n",
        "    def __len__(self):\n",
        "        return len(self.tuples)\n",
        "\n",
        "    def tokenize_function(self, text):\n",
        "        return self.tokenizer(text, padding=\"max_length\", truncation=True, return_tensors='pt')\n",
        "\n",
        "    def __getitem__(self, idx):\n",
        "      text, label = self.tuples[ idx ][0], self.tuples[ idx ][1]\n",
        "      \n",
        "      text = self.tokenize_function( text )\n",
        "\n",
        "      label = [ 0, 1 ] if label == 1 else [1,0]\n",
        "      text['labels'] = torch.Tensor( label )\n",
        "\n",
        "      return text"
      ],
      "metadata": {
        "id": "fbWI4-NWv3j6"
      },
      "execution_count": null,
      "outputs": []
    },
    {
      "cell_type": "code",
      "source": [
        "import torch\n",
        "import numpy as np\n",
        "from transformers import BertTokenizer, AutoTokenizer\n",
        "\n",
        "tokenizer = AutoTokenizer.from_pretrained(pretrained_model)\n",
        "\n",
        "class Dataset(torch.utils.data.Dataset):\n",
        "\n",
        "    def __init__(self, df):\n",
        "\n",
        "        self.labels = df['Humour'].to_list()\n",
        "        self.texts = [tokenizer(text, \n",
        "                               padding='max_length', max_length = 512, truncation=True,\n",
        "                                return_tensors=\"pt\") for text in df['Text']]\n",
        "\n",
        "    def classes(self):\n",
        "        return self.labels\n",
        "\n",
        "    def __len__(self):\n",
        "        return len(self.labels)\n",
        "\n",
        "    def get_batch_labels(self, idx):\n",
        "        # Fetch a batch of labels\n",
        "        return np.array(self.labels[idx])\n",
        "\n",
        "    def get_batch_texts(self, idx):\n",
        "        # Fetch a batch of inputs\n",
        "        return self.texts[idx]\n",
        "\n",
        "    def __getitem__(self, idx):\n",
        "\n",
        "        batch_texts = self.get_batch_texts(idx)\n",
        "        batch_y = self.get_batch_labels(idx)\n",
        "\n",
        "        return batch_texts, batch_y"
      ],
      "metadata": {
        "id": "p_Mja3dIweCD",
        "colab": {
          "base_uri": "https://localhost:8080/",
          "height": 145,
          "referenced_widgets": [
            "c4e6dcd4e4de4d0596b78ca4da1b5c0f",
            "948499823d734b888195808155f97b83",
            "3251ffc6bc3e4920840abe306a21154a",
            "847628a624804eae829e7d91db455ca1",
            "95470508e6e342f38a6040f8e7ac764f",
            "dcd2f36a205a4060bddb1913a171540a",
            "1292021c1b9a4945b2ac9f76fb0c7c3f",
            "53c8c3293b174a6ba2c8d0cd5a092d59",
            "6d577414668f4cf4b75b48fb46b439f3",
            "af85a0b5446246ea9e4180314233e115",
            "74d0cba5a5ba4b789dc6cb6d2d18fefa",
            "83b5291c4882487c9dd59f709485b878",
            "f11139aed9f745d1b9fc59f19be1296f",
            "71d6982c75e94949899399eb48d265c0",
            "e61f0204751e4bdf87a0f61a26947622",
            "d4566b1753444d798ff95cab7241ffcf",
            "efa4dc3f15924846ac035815f22e0c0f",
            "64ea1cd0568e4b85a23cf57a6f2fbd89",
            "b1fe58531dd14dccbd38f5383f243eeb",
            "50fab6a509b34c019abc31be01d79d23",
            "bb260b5d04b84ed48ddd41ab001fa972",
            "a6ea7b340c7c41d3b46bdcc15c850600",
            "ac7eff2f6e0543da84fd3bb2d916830f",
            "eae1652029244851a3288d14600c0dd0",
            "60dee29facdc4ba3aa7bb7e66b15f8f1",
            "e919c4362dca4cb98e913186ed562630",
            "85bf5cc950a44a139b9cfeccaf98ec73",
            "faafd99e34384ed7b3a58eabb14a6011",
            "64c9c248eb1f4b4bac1f8019325fb198",
            "085c5c38f9ef4b51bc6daecbb9625e6b",
            "ea43d2cc701541108e8d4088671d475f",
            "8a43d944c56a4e459051b958cc7fd948",
            "42b3ea2a161841cd829290f5b9c492db",
            "c90ae23798d14fdd977e5dcf937b77e1",
            "2ef24ef6b5a748ee827c522cc8bed9fc",
            "cb70714a0eeb4444bef610ce9933badf",
            "74187d13d164450ab934e3e93928baf9",
            "0e23f974c8e347089d4fe15cac97f6be",
            "46ec33c5d97e48f4afcd64899961cf35",
            "4d673aa47f144b45a3f9d2c1075ccf71",
            "862a4db18ac140529f37c2e0d01ac499",
            "bf040e5116a740fe9b2ad6a938415d2e",
            "7bf8d751a5a74c33aa9f0b18a11e85e9",
            "ea0e7c19a02b4d1bb1f09af6aec7071b"
          ]
        },
        "outputId": "9b86ad13-4b06-4cb8-eb15-f357d162fed2"
      },
      "execution_count": null,
      "outputs": [
        {
          "output_type": "display_data",
          "data": {
            "application/vnd.jupyter.widget-view+json": {
              "model_id": "c4e6dcd4e4de4d0596b78ca4da1b5c0f",
              "version_minor": 0,
              "version_major": 2
            },
            "text/plain": [
              "Downloading:   0%|          | 0.00/29.0 [00:00<?, ?B/s]"
            ]
          },
          "metadata": {}
        },
        {
          "output_type": "display_data",
          "data": {
            "application/vnd.jupyter.widget-view+json": {
              "model_id": "83b5291c4882487c9dd59f709485b878",
              "version_minor": 0,
              "version_major": 2
            },
            "text/plain": [
              "Downloading:   0%|          | 0.00/466 [00:00<?, ?B/s]"
            ]
          },
          "metadata": {}
        },
        {
          "output_type": "display_data",
          "data": {
            "application/vnd.jupyter.widget-view+json": {
              "model_id": "ac7eff2f6e0543da84fd3bb2d916830f",
              "version_minor": 0,
              "version_major": 2
            },
            "text/plain": [
              "Downloading:   0%|          | 0.00/972k [00:00<?, ?B/s]"
            ]
          },
          "metadata": {}
        },
        {
          "output_type": "display_data",
          "data": {
            "application/vnd.jupyter.widget-view+json": {
              "model_id": "c90ae23798d14fdd977e5dcf937b77e1",
              "version_minor": 0,
              "version_major": 2
            },
            "text/plain": [
              "Downloading:   0%|          | 0.00/1.87M [00:00<?, ?B/s]"
            ]
          },
          "metadata": {}
        }
      ]
    },
    {
      "cell_type": "code",
      "source": [
        "from torch import nn\n",
        "from transformers import BertModel, AutoModel\n",
        "\n",
        "class BertClassifier(nn.Module):\n",
        "\n",
        "    def __init__(self, dropout=0.5):\n",
        "\n",
        "        super(BertClassifier, self).__init__()\n",
        "\n",
        "        self.bert = BertModel.from_pretrained(pretrained_model) # AutoModel.from_pretrained(pretrained_model) # BertModel.from_pretrained(pretrained_model)\n",
        "        self.dropout = nn.Dropout(dropout)\n",
        "        self.linear = nn.Linear(768, 5)\n",
        "        self.relu = nn.ReLU()\n",
        "\n",
        "    def forward(self, input_id, mask):\n",
        "\n",
        "        _, pooled_output = self.bert(input_ids= input_id, attention_mask=mask,return_dict=False)\n",
        "        dropout_output = self.dropout(pooled_output)\n",
        "        linear_output = self.linear(dropout_output)\n",
        "        final_layer = self.relu(linear_output)\n",
        "\n",
        "        return final_layer"
      ],
      "metadata": {
        "id": "8b_StIiTWLXo"
      },
      "execution_count": null,
      "outputs": []
    },
    {
      "cell_type": "code",
      "source": [
        "from torch.optim import Adam\n",
        "from tqdm import tqdm\n",
        "\n",
        "def train(model, train_data, val_data, learning_rate, epochs):\n",
        "\n",
        "    train, val = Dataset(train_data), Dataset(val_data)\n",
        "\n",
        "    train_dataloader = torch.utils.data.DataLoader(train, batch_size=2, shuffle=True)\n",
        "    val_dataloader = torch.utils.data.DataLoader(val, batch_size=2)\n",
        "\n",
        "    use_cuda = torch.cuda.is_available()\n",
        "    device = torch.device(\"cuda\" if use_cuda else \"cpu\")\n",
        "\n",
        "    criterion = nn.CrossEntropyLoss()\n",
        "    optimizer = Adam(model.parameters(), lr= learning_rate)\n",
        "\n",
        "    if use_cuda:\n",
        "\n",
        "            model = model.cuda()\n",
        "            criterion = criterion.cuda()\n",
        "\n",
        "    for epoch_num in range(epochs):\n",
        "\n",
        "            total_acc_train = 0\n",
        "            total_loss_train = 0\n",
        "\n",
        "            for train_input, train_label in tqdm(train_dataloader):\n",
        "\n",
        "                train_label = train_label.to(device)\n",
        "                mask = train_input['attention_mask'].to(device)\n",
        "                input_id = train_input['input_ids'].squeeze(1).to(device)\n",
        "\n",
        "                output = model(input_id, mask)\n",
        "                \n",
        "                batch_loss = criterion(output, train_label)\n",
        "                total_loss_train += batch_loss.item()\n",
        "                \n",
        "                acc = (output.argmax(dim=1) == train_label).sum().item()\n",
        "                total_acc_train += acc\n",
        "\n",
        "                model.zero_grad()\n",
        "                batch_loss.backward()\n",
        "                optimizer.step()\n",
        "            \n",
        "            total_acc_val = 0\n",
        "            total_loss_val = 0\n",
        "\n",
        "            with torch.no_grad():\n",
        "\n",
        "                for val_input, val_label in val_dataloader:\n",
        "\n",
        "                    val_label = val_label.to(device)\n",
        "                    mask = val_input['attention_mask'].to(device)\n",
        "                    input_id = val_input['input_ids'].squeeze(1).to(device)\n",
        "\n",
        "                    output = model(input_id, mask)\n",
        "\n",
        "                    batch_loss = criterion(output, val_label)\n",
        "                    total_loss_val += batch_loss.item()\n",
        "                    \n",
        "                    acc = (output.argmax(dim=1) == val_label).sum().item()\n",
        "                    total_acc_val += acc\n",
        "            \n",
        "            print(\n",
        "                f'Epochs: {epoch_num + 1} | Train Loss: {total_loss_train / len(train_data): .3f} \\\n",
        "                | Train Accuracy: {total_acc_train / len(train_data): .3f} \\\n",
        "                | Val Loss: {total_loss_val / len(val_data): .3f} \\\n",
        "                | Val Accuracy: {total_acc_val / len(val_data): .3f}')\n",
        "                  \n",
        "EPOCHS = 10\n",
        "model = BertClassifier()\n",
        "LR = 1e-6\n",
        "\n",
        "df_train.sample(frac=1)\n",
        "train(model, df_train, df_test, LR, EPOCHS)"
      ],
      "metadata": {
        "colab": {
          "base_uri": "https://localhost:8080/",
          "height": 520,
          "referenced_widgets": [
            "4a06eec7a0b44a6fb0fd81aa03f58668",
            "306f72f1cb294914af45403bcb607af5",
            "14a50f992b064717945da7989509abe3",
            "e48ea341af2e42dbb8e66073843107d8",
            "4743e9b33ccf45db87776cb920fc19b7",
            "4f1b8adf12bd43c2b90e5c0a197892fd",
            "63dc7f04e8914e8e8a60eec20058256c",
            "d0cc4002ca1245d28f31659bdfdbf3f9",
            "5468f251316a4113b66925ab174fb044",
            "8cb756fefa74494d9e10eacbaaa89749",
            "4a47b98c0d594a0ea3e827af99770f93"
          ]
        },
        "id": "TuxwN-n-WfD9",
        "outputId": "3cf3cb3c-f9c0-4ad1-d47d-9f0153dc8a48"
      },
      "execution_count": null,
      "outputs": [
        {
          "output_type": "stream",
          "name": "stderr",
          "text": [
            "You are using a model of type distilbert to instantiate a model of type bert. This is not supported for all configurations of models and can yield errors.\n"
          ]
        },
        {
          "output_type": "display_data",
          "data": {
            "application/vnd.jupyter.widget-view+json": {
              "model_id": "4a06eec7a0b44a6fb0fd81aa03f58668",
              "version_minor": 0,
              "version_major": 2
            },
            "text/plain": [
              "Downloading:   0%|          | 0.00/517M [00:00<?, ?B/s]"
            ]
          },
          "metadata": {}
        },
        {
          "output_type": "stream",
          "name": "stderr",
          "text": [
            "Some weights of the model checkpoint at distilbert-base-multilingual-cased were not used when initializing BertModel: ['distilbert.transformer.layer.5.attention.v_lin.bias', 'distilbert.transformer.layer.2.attention.q_lin.bias', 'distilbert.transformer.layer.4.attention.k_lin.weight', 'distilbert.transformer.layer.3.output_layer_norm.bias', 'distilbert.transformer.layer.5.attention.k_lin.bias', 'distilbert.transformer.layer.2.attention.v_lin.weight', 'distilbert.transformer.layer.3.attention.k_lin.bias', 'distilbert.transformer.layer.2.ffn.lin1.weight', 'distilbert.transformer.layer.0.attention.v_lin.weight', 'distilbert.transformer.layer.4.attention.q_lin.weight', 'distilbert.transformer.layer.0.ffn.lin1.weight', 'distilbert.transformer.layer.5.attention.q_lin.weight', 'distilbert.transformer.layer.1.ffn.lin1.weight', 'distilbert.transformer.layer.2.attention.q_lin.weight', 'distilbert.transformer.layer.5.ffn.lin2.weight', 'distilbert.transformer.layer.5.attention.v_lin.weight', 'distilbert.transformer.layer.5.output_layer_norm.bias', 'distilbert.transformer.layer.4.output_layer_norm.bias', 'distilbert.transformer.layer.2.attention.k_lin.weight', 'distilbert.transformer.layer.3.sa_layer_norm.bias', 'distilbert.transformer.layer.5.attention.out_lin.bias', 'distilbert.transformer.layer.0.attention.k_lin.bias', 'distilbert.transformer.layer.2.ffn.lin1.bias', 'distilbert.transformer.layer.3.ffn.lin1.bias', 'distilbert.embeddings.position_embeddings.weight', 'distilbert.transformer.layer.4.sa_layer_norm.weight', 'distilbert.transformer.layer.4.attention.out_lin.weight', 'distilbert.transformer.layer.1.sa_layer_norm.bias', 'distilbert.transformer.layer.5.ffn.lin1.bias', 'distilbert.transformer.layer.1.attention.q_lin.bias', 'distilbert.transformer.layer.2.output_layer_norm.bias', 'distilbert.transformer.layer.4.output_layer_norm.weight', 'vocab_layer_norm.weight', 'distilbert.transformer.layer.3.attention.out_lin.weight', 'distilbert.transformer.layer.1.attention.out_lin.weight', 'distilbert.transformer.layer.4.attention.v_lin.weight', 'distilbert.transformer.layer.0.attention.q_lin.bias', 'distilbert.transformer.layer.4.attention.q_lin.bias', 'distilbert.transformer.layer.4.ffn.lin2.weight', 'distilbert.transformer.layer.2.sa_layer_norm.bias', 'distilbert.transformer.layer.3.sa_layer_norm.weight', 'distilbert.transformer.layer.0.attention.q_lin.weight', 'distilbert.transformer.layer.3.attention.v_lin.weight', 'distilbert.transformer.layer.2.attention.out_lin.weight', 'distilbert.transformer.layer.0.ffn.lin2.bias', 'vocab_transform.weight', 'distilbert.transformer.layer.1.attention.v_lin.bias', 'distilbert.transformer.layer.3.ffn.lin2.weight', 'vocab_layer_norm.bias', 'distilbert.transformer.layer.4.sa_layer_norm.bias', 'distilbert.transformer.layer.1.sa_layer_norm.weight', 'distilbert.transformer.layer.5.attention.q_lin.bias', 'distilbert.transformer.layer.3.attention.q_lin.bias', 'distilbert.transformer.layer.0.attention.k_lin.weight', 'distilbert.transformer.layer.5.attention.k_lin.weight', 'distilbert.transformer.layer.3.output_layer_norm.weight', 'distilbert.transformer.layer.5.sa_layer_norm.weight', 'distilbert.transformer.layer.3.attention.k_lin.weight', 'distilbert.transformer.layer.2.attention.out_lin.bias', 'distilbert.embeddings.word_embeddings.weight', 'distilbert.transformer.layer.1.ffn.lin2.bias', 'distilbert.transformer.layer.1.ffn.lin1.bias', 'distilbert.transformer.layer.3.ffn.lin2.bias', 'distilbert.embeddings.LayerNorm.bias', 'distilbert.embeddings.LayerNorm.weight', 'distilbert.transformer.layer.4.ffn.lin2.bias', 'distilbert.transformer.layer.1.attention.q_lin.weight', 'distilbert.transformer.layer.5.ffn.lin2.bias', 'distilbert.transformer.layer.2.output_layer_norm.weight', 'distilbert.transformer.layer.2.sa_layer_norm.weight', 'distilbert.transformer.layer.0.ffn.lin2.weight', 'vocab_projector.weight', 'distilbert.transformer.layer.0.output_layer_norm.bias', 'distilbert.transformer.layer.1.attention.k_lin.bias', 'vocab_transform.bias', 'distilbert.transformer.layer.4.ffn.lin1.bias', 'distilbert.transformer.layer.1.attention.out_lin.bias', 'distilbert.transformer.layer.1.attention.v_lin.weight', 'vocab_projector.bias', 'distilbert.transformer.layer.5.ffn.lin1.weight', 'distilbert.transformer.layer.2.attention.k_lin.bias', 'distilbert.transformer.layer.0.attention.out_lin.bias', 'distilbert.transformer.layer.2.ffn.lin2.weight', 'distilbert.transformer.layer.2.attention.v_lin.bias', 'distilbert.transformer.layer.4.attention.k_lin.bias', 'distilbert.transformer.layer.0.output_layer_norm.weight', 'distilbert.transformer.layer.3.ffn.lin1.weight', 'distilbert.transformer.layer.5.attention.out_lin.weight', 'distilbert.transformer.layer.3.attention.v_lin.bias', 'distilbert.transformer.layer.5.sa_layer_norm.bias', 'distilbert.transformer.layer.0.attention.out_lin.weight', 'distilbert.transformer.layer.1.attention.k_lin.weight', 'distilbert.transformer.layer.3.attention.out_lin.bias', 'distilbert.transformer.layer.1.ffn.lin2.weight', 'distilbert.transformer.layer.0.ffn.lin1.bias', 'distilbert.transformer.layer.2.ffn.lin2.bias', 'distilbert.transformer.layer.0.attention.v_lin.bias', 'distilbert.transformer.layer.3.attention.q_lin.weight', 'distilbert.transformer.layer.4.attention.v_lin.bias', 'distilbert.transformer.layer.5.output_layer_norm.weight', 'distilbert.transformer.layer.4.ffn.lin1.weight', 'distilbert.transformer.layer.0.sa_layer_norm.bias', 'distilbert.transformer.layer.0.sa_layer_norm.weight', 'distilbert.transformer.layer.1.output_layer_norm.weight', 'distilbert.transformer.layer.1.output_layer_norm.bias', 'distilbert.transformer.layer.4.attention.out_lin.bias']\n",
            "- This IS expected if you are initializing BertModel from the checkpoint of a model trained on another task or with another architecture (e.g. initializing a BertForSequenceClassification model from a BertForPreTraining model).\n",
            "- This IS NOT expected if you are initializing BertModel from the checkpoint of a model that you expect to be exactly identical (initializing a BertForSequenceClassification model from a BertForSequenceClassification model).\n",
            "Some weights of BertModel were not initialized from the model checkpoint at distilbert-base-multilingual-cased and are newly initialized: ['encoder.layer.7.intermediate.dense.weight', 'encoder.layer.11.output.dense.bias', 'encoder.layer.11.attention.self.query.bias', 'encoder.layer.3.output.dense.weight', 'encoder.layer.11.attention.self.query.weight', 'encoder.layer.1.attention.self.key.bias', 'embeddings.LayerNorm.bias', 'encoder.layer.10.attention.self.key.bias', 'encoder.layer.5.attention.self.query.bias', 'encoder.layer.6.attention.output.dense.bias', 'encoder.layer.11.intermediate.dense.weight', 'encoder.layer.6.output.LayerNorm.bias', 'encoder.layer.6.attention.output.LayerNorm.weight', 'encoder.layer.3.attention.self.key.weight', 'encoder.layer.1.output.dense.weight', 'encoder.layer.6.attention.self.key.bias', 'encoder.layer.11.attention.self.value.bias', 'encoder.layer.4.attention.self.value.bias', 'encoder.layer.9.attention.self.query.bias', 'encoder.layer.4.attention.self.key.bias', 'encoder.layer.8.attention.output.dense.weight', 'encoder.layer.11.attention.self.key.weight', 'encoder.layer.8.intermediate.dense.weight', 'encoder.layer.7.attention.self.query.bias', 'encoder.layer.9.attention.self.key.weight', 'encoder.layer.7.attention.output.dense.bias', 'encoder.layer.6.attention.self.query.weight', 'encoder.layer.6.attention.self.value.weight', 'encoder.layer.2.intermediate.dense.weight', 'encoder.layer.3.attention.output.LayerNorm.weight', 'encoder.layer.1.attention.self.query.bias', 'encoder.layer.3.attention.self.value.bias', 'encoder.layer.6.output.dense.bias', 'encoder.layer.6.attention.self.value.bias', 'encoder.layer.7.output.LayerNorm.weight', 'encoder.layer.8.output.LayerNorm.bias', 'encoder.layer.9.attention.output.dense.weight', 'encoder.layer.11.output.dense.weight', 'encoder.layer.6.attention.output.LayerNorm.bias', 'pooler.dense.weight', 'encoder.layer.7.attention.output.LayerNorm.weight', 'encoder.layer.1.attention.output.dense.bias', 'encoder.layer.3.attention.self.query.bias', 'encoder.layer.4.attention.output.LayerNorm.weight', 'encoder.layer.8.attention.self.query.bias', 'encoder.layer.11.intermediate.dense.bias', 'encoder.layer.9.attention.output.LayerNorm.bias', 'encoder.layer.6.attention.output.dense.weight', 'encoder.layer.3.output.dense.bias', 'encoder.layer.8.attention.self.query.weight', 'encoder.layer.2.output.LayerNorm.weight', 'encoder.layer.10.attention.output.LayerNorm.weight', 'encoder.layer.1.attention.self.value.bias', 'encoder.layer.9.output.LayerNorm.bias', 'encoder.layer.4.attention.output.dense.bias', 'encoder.layer.4.attention.self.value.weight', 'encoder.layer.10.attention.output.LayerNorm.bias', 'encoder.layer.7.attention.self.key.bias', 'encoder.layer.9.attention.output.LayerNorm.weight', 'encoder.layer.5.attention.self.query.weight', 'encoder.layer.4.output.dense.weight', 'encoder.layer.0.output.LayerNorm.bias', 'encoder.layer.2.attention.self.value.weight', 'encoder.layer.5.output.dense.bias', 'encoder.layer.3.intermediate.dense.weight', 'encoder.layer.8.output.dense.weight', 'encoder.layer.10.intermediate.dense.weight', 'encoder.layer.4.attention.output.LayerNorm.bias', 'encoder.layer.7.attention.self.value.bias', 'encoder.layer.9.output.dense.weight', 'encoder.layer.1.intermediate.dense.weight', 'encoder.layer.4.attention.self.query.weight', 'encoder.layer.10.attention.self.value.weight', 'encoder.layer.5.attention.output.LayerNorm.weight', 'encoder.layer.7.output.dense.weight', 'encoder.layer.3.intermediate.dense.bias', 'encoder.layer.0.intermediate.dense.bias', 'encoder.layer.3.attention.output.dense.weight', 'encoder.layer.3.output.LayerNorm.bias', 'encoder.layer.4.attention.self.query.bias', 'encoder.layer.4.intermediate.dense.bias', 'encoder.layer.11.attention.output.LayerNorm.weight', 'encoder.layer.11.attention.self.key.bias', 'encoder.layer.2.attention.self.query.weight', 'encoder.layer.0.attention.self.key.weight', 'encoder.layer.4.output.dense.bias', 'encoder.layer.9.output.LayerNorm.weight', 'encoder.layer.2.attention.self.key.bias', 'encoder.layer.5.attention.output.LayerNorm.bias', 'encoder.layer.8.attention.output.LayerNorm.bias', 'encoder.layer.4.attention.output.dense.weight', 'encoder.layer.0.intermediate.dense.weight', 'encoder.layer.0.attention.self.key.bias', 'encoder.layer.9.attention.output.dense.bias', 'encoder.layer.11.output.LayerNorm.bias', 'encoder.layer.1.attention.output.LayerNorm.weight', 'encoder.layer.5.attention.self.value.weight', 'encoder.layer.10.attention.self.key.weight', 'encoder.layer.1.attention.self.key.weight', 'embeddings.LayerNorm.weight', 'encoder.layer.2.attention.output.LayerNorm.weight', 'encoder.layer.0.attention.self.query.weight', 'encoder.layer.5.attention.self.value.bias', 'encoder.layer.5.output.LayerNorm.bias', 'encoder.layer.3.attention.output.dense.bias', 'encoder.layer.6.intermediate.dense.bias', 'encoder.layer.8.attention.self.key.weight', 'embeddings.word_embeddings.weight', 'encoder.layer.0.attention.output.dense.weight', 'encoder.layer.0.output.dense.weight', 'encoder.layer.2.output.dense.weight', 'encoder.layer.7.attention.self.key.weight', 'encoder.layer.6.attention.self.query.bias', 'encoder.layer.3.output.LayerNorm.weight', 'encoder.layer.10.output.dense.weight', 'encoder.layer.1.attention.output.LayerNorm.bias', 'encoder.layer.5.attention.self.key.bias', 'encoder.layer.4.output.LayerNorm.bias', 'encoder.layer.3.attention.output.LayerNorm.bias', 'pooler.dense.bias', 'encoder.layer.2.intermediate.dense.bias', 'encoder.layer.10.attention.self.value.bias', 'encoder.layer.8.attention.output.dense.bias', 'encoder.layer.5.attention.output.dense.bias', 'embeddings.position_embeddings.weight', 'encoder.layer.6.output.dense.weight', 'encoder.layer.2.attention.output.dense.weight', 'encoder.layer.7.attention.output.dense.weight', 'encoder.layer.0.output.dense.bias', 'encoder.layer.5.intermediate.dense.weight', 'encoder.layer.6.intermediate.dense.weight', 'encoder.layer.2.attention.output.LayerNorm.bias', 'encoder.layer.8.output.LayerNorm.weight', 'encoder.layer.11.attention.output.LayerNorm.bias', 'encoder.layer.4.output.LayerNorm.weight', 'encoder.layer.10.attention.self.query.weight', 'encoder.layer.4.intermediate.dense.weight', 'encoder.layer.0.attention.self.value.bias', 'encoder.layer.11.attention.self.value.weight', 'encoder.layer.9.output.dense.bias', 'encoder.layer.9.attention.self.query.weight', 'encoder.layer.1.intermediate.dense.bias', 'encoder.layer.1.output.LayerNorm.bias', 'encoder.layer.6.output.LayerNorm.weight', 'encoder.layer.8.attention.self.value.weight', 'encoder.layer.9.intermediate.dense.weight', 'encoder.layer.2.attention.self.value.bias', 'encoder.layer.11.attention.output.dense.weight', 'encoder.layer.9.intermediate.dense.bias', 'encoder.layer.10.attention.self.query.bias', 'encoder.layer.7.attention.self.value.weight', 'encoder.layer.10.attention.output.dense.weight', 'encoder.layer.8.attention.self.value.bias', 'encoder.layer.0.attention.self.value.weight', 'encoder.layer.2.attention.self.query.bias', 'encoder.layer.10.output.LayerNorm.bias', 'encoder.layer.8.intermediate.dense.bias', 'encoder.layer.7.attention.output.LayerNorm.bias', 'encoder.layer.0.output.LayerNorm.weight', 'encoder.layer.5.output.LayerNorm.weight', 'encoder.layer.1.attention.self.query.weight', 'encoder.layer.7.attention.self.query.weight', 'encoder.layer.8.attention.output.LayerNorm.weight', 'encoder.layer.5.attention.self.key.weight', 'encoder.layer.0.attention.output.LayerNorm.bias', 'encoder.layer.1.attention.output.dense.weight', 'encoder.layer.2.output.dense.bias', 'encoder.layer.3.attention.self.value.weight', 'encoder.layer.2.output.LayerNorm.bias', 'encoder.layer.8.output.dense.bias', 'encoder.layer.0.attention.output.LayerNorm.weight', 'encoder.layer.1.output.LayerNorm.weight', 'encoder.layer.11.attention.output.dense.bias', 'encoder.layer.4.attention.self.key.weight', 'encoder.layer.3.attention.self.key.bias', 'encoder.layer.0.attention.self.query.bias', 'encoder.layer.1.output.dense.bias', 'encoder.layer.9.attention.self.value.weight', 'encoder.layer.5.attention.output.dense.weight', 'encoder.layer.6.attention.self.key.weight', 'encoder.layer.7.output.LayerNorm.bias', 'encoder.layer.10.intermediate.dense.bias', 'encoder.layer.2.attention.output.dense.bias', 'encoder.layer.7.output.dense.bias', 'encoder.layer.9.attention.self.value.bias', 'embeddings.token_type_embeddings.weight', 'encoder.layer.7.intermediate.dense.bias', 'encoder.layer.10.output.LayerNorm.weight', 'encoder.layer.0.attention.output.dense.bias', 'encoder.layer.10.output.dense.bias', 'encoder.layer.11.output.LayerNorm.weight', 'encoder.layer.5.intermediate.dense.bias', 'encoder.layer.3.attention.self.query.weight', 'encoder.layer.9.attention.self.key.bias', 'encoder.layer.2.attention.self.key.weight', 'encoder.layer.10.attention.output.dense.bias', 'encoder.layer.8.attention.self.key.bias', 'encoder.layer.1.attention.self.value.weight', 'encoder.layer.5.output.dense.weight']\n",
            "You should probably TRAIN this model on a down-stream task to be able to use it for predictions and inference.\n",
            "100%|██████████| 431/431 [03:26<00:00,  2.09it/s]\n"
          ]
        },
        {
          "output_type": "stream",
          "name": "stdout",
          "text": [
            "Epochs: 1 | Train Loss:  0.417                 | Train Accuracy:  0.509                 | Val Loss:  0.384                 | Val Accuracy:  0.532\n"
          ]
        },
        {
          "output_type": "stream",
          "name": "stderr",
          "text": [
            "100%|██████████| 431/431 [03:25<00:00,  2.09it/s]\n"
          ]
        },
        {
          "output_type": "stream",
          "name": "stdout",
          "text": [
            "Epochs: 2 | Train Loss:  0.367                 | Train Accuracy:  0.544                 | Val Loss:  0.371                 | Val Accuracy:  0.519\n"
          ]
        },
        {
          "output_type": "stream",
          "name": "stderr",
          "text": [
            "100%|██████████| 431/431 [03:25<00:00,  2.10it/s]\n"
          ]
        },
        {
          "output_type": "stream",
          "name": "stdout",
          "text": [
            "Epochs: 3 | Train Loss:  0.369                 | Train Accuracy:  0.542                 | Val Loss:  0.361                 | Val Accuracy:  0.574\n"
          ]
        },
        {
          "output_type": "stream",
          "name": "stderr",
          "text": [
            "100%|██████████| 431/431 [03:25<00:00,  2.09it/s]\n"
          ]
        },
        {
          "output_type": "stream",
          "name": "stdout",
          "text": [
            "Epochs: 4 | Train Loss:  0.339                 | Train Accuracy:  0.610                 | Val Loss:  0.347                 | Val Accuracy:  0.602\n"
          ]
        },
        {
          "output_type": "stream",
          "name": "stderr",
          "text": [
            "100%|██████████| 431/431 [03:25<00:00,  2.10it/s]\n"
          ]
        },
        {
          "output_type": "stream",
          "name": "stdout",
          "text": [
            "Epochs: 5 | Train Loss:  0.324                 | Train Accuracy:  0.638                 | Val Loss:  0.314                 | Val Accuracy:  0.653\n"
          ]
        },
        {
          "output_type": "stream",
          "name": "stderr",
          "text": [
            "100%|██████████| 431/431 [03:25<00:00,  2.10it/s]\n"
          ]
        },
        {
          "output_type": "stream",
          "name": "stdout",
          "text": [
            "Epochs: 6 | Train Loss:  0.300                 | Train Accuracy:  0.680                 | Val Loss:  0.282                 | Val Accuracy:  0.704\n"
          ]
        },
        {
          "output_type": "stream",
          "name": "stderr",
          "text": [
            "100%|██████████| 431/431 [03:25<00:00,  2.09it/s]\n"
          ]
        },
        {
          "output_type": "stream",
          "name": "stdout",
          "text": [
            "Epochs: 7 | Train Loss:  0.274                 | Train Accuracy:  0.732                 | Val Loss:  0.284                 | Val Accuracy:  0.713\n"
          ]
        },
        {
          "output_type": "stream",
          "name": "stderr",
          "text": [
            "100%|██████████| 431/431 [03:25<00:00,  2.09it/s]\n"
          ]
        },
        {
          "output_type": "stream",
          "name": "stdout",
          "text": [
            "Epochs: 8 | Train Loss:  0.257                 | Train Accuracy:  0.759                 | Val Loss:  0.279                 | Val Accuracy:  0.718\n"
          ]
        },
        {
          "output_type": "stream",
          "name": "stderr",
          "text": [
            "100%|██████████| 431/431 [03:25<00:00,  2.09it/s]\n"
          ]
        },
        {
          "output_type": "stream",
          "name": "stdout",
          "text": [
            "Epochs: 9 | Train Loss:  0.241                 | Train Accuracy:  0.792                 | Val Loss:  0.253                 | Val Accuracy:  0.750\n"
          ]
        },
        {
          "output_type": "stream",
          "name": "stderr",
          "text": [
            "100%|██████████| 431/431 [03:26<00:00,  2.09it/s]\n"
          ]
        },
        {
          "output_type": "stream",
          "name": "stdout",
          "text": [
            "Epochs: 10 | Train Loss:  0.232                 | Train Accuracy:  0.775                 | Val Loss:  0.308                 | Val Accuracy:  0.708\n"
          ]
        }
      ]
    },
    {
      "cell_type": "code",
      "source": [
        "from sklearn.metrics import precision_recall_fscore_support"
      ],
      "metadata": {
        "id": "pa6aoI9WcPhx"
      },
      "execution_count": null,
      "outputs": []
    },
    {
      "cell_type": "code",
      "source": [
        "def evaluate(model, test_data):\n",
        "\n",
        "    test = Dataset(test_data)\n",
        "\n",
        "    test_dataloader = torch.utils.data.DataLoader(test, batch_size=2)\n",
        "\n",
        "    use_cuda = torch.cuda.is_available()\n",
        "    device = torch.device(\"cuda\" if use_cuda else \"cpu\")\n",
        "\n",
        "    if use_cuda:\n",
        "\n",
        "        model = model.cuda()\n",
        "\n",
        "    total_acc_test = 0\n",
        "    pred, tlabels = [], []\n",
        "    with torch.no_grad():\n",
        "\n",
        "        for test_input, test_label in test_dataloader:\n",
        "\n",
        "              test_label = test_label.to(device)\n",
        "              mask = test_input['attention_mask'].to(device)\n",
        "              input_id = test_input['input_ids'].squeeze(1).to(device)\n",
        "\n",
        "              output = model(input_id, mask)\n",
        "\n",
        "              # pred.append( output.argmax(dim=1) )\n",
        "\n",
        "              pred.extend( output.argmax(dim=1).tolist() )\n",
        "              tlabels.extend( test_label.tolist() )\n",
        "              acc = (output.argmax(dim=1) == test_label).sum().item()\n",
        "              total_acc_test += acc\n",
        "    \n",
        "    print(f'Test Accuracy: {total_acc_test / len(test_data): .3f}')\n",
        "    print(\"Test precision, recall and f1-score: \", precision_recall_fscore_support( tlabels, pred, average=\"macro\" ) )\n",
        "    print(\"Test precision, recall and f1-score label-wise: \", precision_recall_fscore_support( tlabels, pred ) )\n",
        "evaluate(model, df_test)"
      ],
      "metadata": {
        "id": "eaYmRWXbWuoq"
      },
      "execution_count": null,
      "outputs": []
    },
    {
      "cell_type": "markdown",
      "source": [
        "### Results\n",
        "#### mBERT\n",
        "Model             |  NH  |  H   |  Macro\n",
        "Test Accuracy:  0.815\n",
        "Test precision, recall and f1-score:  (0.8226898887276246, 0.8152173913043478, 0.814141414141414, None)\n",
        "Test precision, recall and f1-score label-wise:  (array([0.77358491, 0.87179487]), array([0.89130435, 0.73913043]), array([0.82828283, 0.8       ]), array([92, 92]))\n",
        "#### Distil mBERT\n",
        "Test Accuracy:  0.734\n",
        "Test precision, recall and f1-score:  (0.7636278821804612, 0.7336956521739131, 0.7259157926736586, None)\n",
        "Test precision, recall and f1-score label-wise:  (array([0.85245902, 0.67479675]), array([0.56521739, 0.90217391]), array([0.67973856, 0.77209302]), array([92, 92]))\n",
        "\n",
        "#### XLM RoBERTa\n",
        "Test Accuracy:  0.815\n",
        "Test precision, recall and f1-score:  (0.818986131037781, 0.8152173913043479, 0.8146699845953311, None)\n",
        "Test precision, recall and f1-score label-wise:  (array([0.85365854, 0.78431373]), array([0.76086957, 0.86956522]), array([0.8045977 , 0.82474227]), array([92, 92]))"
      ],
      "metadata": {
        "id": "CnFRTSbZPECj"
      }
    },
    {
      "cell_type": "code",
      "source": [
        "!mkdir ./gdrive/MyDrive/telugu_humour_model"
      ],
      "metadata": {
        "id": "ay5bE7y5dK5k",
        "colab": {
          "base_uri": "https://localhost:8080/"
        },
        "outputId": "3e6539b8-d0d4-4701-9f49-7a1f07119588"
      },
      "execution_count": null,
      "outputs": [
        {
          "output_type": "stream",
          "name": "stdout",
          "text": [
            "mkdir: cannot create directory ‘./gdrive/MyDrive/telugu_humour_model’: File exists\n"
          ]
        }
      ]
    },
    {
      "cell_type": "code",
      "source": [
        "torch.save({\n",
        "            'model_state_dict': model.state_dict()\n",
        "            }, \"./gdrive/MyDrive/telugu_humour_model/model_distilbert_final.pt\")"
      ],
      "metadata": {
        "id": "8WUWq02eb40z"
      },
      "execution_count": null,
      "outputs": []
    },
    {
      "cell_type": "code",
      "source": [
        "# !rm./gdrive/MyDrive/telugu_humour_model/final_train.csv\n",
        "# !rm ./gdrive/MyDrive/telugu_humour_model/final_test.csv\n",
        "# !rm ./gdrive/MyDrive/telugu_humour_model/data.csv"
      ],
      "metadata": {
        "id": "9b7VSZrKNnqu"
      },
      "execution_count": null,
      "outputs": []
    },
    {
      "cell_type": "code",
      "source": [
        "# !cp ./final_train.csv ./gdrive/MyDrive/telugu_humour_model/final_train.csv\n",
        "# !cp ./final_test.csv ./gdrive/MyDrive/telugu_humour_model/final_test.csv\n",
        "# !cp ./data.csv ./gdrive/MyDrive/telugu_humour_model/data.csv"
      ],
      "metadata": {
        "id": "BT62OXOUdQZq"
      },
      "execution_count": null,
      "outputs": []
    },
    {
      "cell_type": "code",
      "source": [
        "# xlm roberta\n",
        "# Test Accuracy:  0.806\n",
        "# Test precision, recall and f1-score:  (0.8056603773584906, 0.8055555555555556, 0.805538883649147, None)\n",
        "# Test precision, recall and f1-score label-wise:  (array([0.8       , 0.81132075]), array([0.81481481, 0.7962963 ]), array([0.80733945, 0.80373832]), array([108, 108]))"
      ],
      "metadata": {
        "id": "p9DXSdD4RTlv"
      },
      "execution_count": null,
      "outputs": []
    }
  ]
}